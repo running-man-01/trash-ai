{
  "nbformat": 4,
  "nbformat_minor": 0,
  "metadata": {
    "colab": {
      "provenance": [],
      "collapsed_sections": [],
      "machine_shape": "hm"
    },
    "kernelspec": {
      "name": "python3",
      "display_name": "Python 3"
    },
    "language_info": {
      "name": "python"
    },
    "accelerator": "GPU",
    "gpuClass": "standard"
  },
  "cells": [
    {
      "cell_type": "markdown",
      "source": [
        "# PyTorch model converter\n",
        " - this notebook converts `.pt` models into `tensorflow js` models.\n",
        " - host instance must have GPU"
      ],
      "metadata": {
        "id": "jocw7swPnTBk"
      }
    },
    {
      "cell_type": "code",
      "source": [
        "!nvidia-smi"
      ],
      "metadata": {
        "colab": {
          "base_uri": "https://localhost:8080/"
        },
        "id": "AQozDunZomXd",
        "outputId": "c424fd9f-dc20-4f33-a7eb-4be7bcbb94e0"
      },
      "execution_count": 1,
      "outputs": [
        {
          "output_type": "stream",
          "name": "stdout",
          "text": [
            "Sat Nov 12 02:32:19 2022       \n",
            "+-----------------------------------------------------------------------------+\n",
            "| NVIDIA-SMI 460.32.03    Driver Version: 460.32.03    CUDA Version: 11.2     |\n",
            "|-------------------------------+----------------------+----------------------+\n",
            "| GPU  Name        Persistence-M| Bus-Id        Disp.A | Volatile Uncorr. ECC |\n",
            "| Fan  Temp  Perf  Pwr:Usage/Cap|         Memory-Usage | GPU-Util  Compute M. |\n",
            "|                               |                      |               MIG M. |\n",
            "|===============================+======================+======================|\n",
            "|   0  Tesla T4            Off  | 00000000:00:04.0 Off |                    0 |\n",
            "| N/A   44C    P8     9W /  70W |      0MiB / 15109MiB |      0%      Default |\n",
            "|                               |                      |                  N/A |\n",
            "+-------------------------------+----------------------+----------------------+\n",
            "                                                                               \n",
            "+-----------------------------------------------------------------------------+\n",
            "| Processes:                                                                  |\n",
            "|  GPU   GI   CI        PID   Type   Process name                  GPU Memory |\n",
            "|        ID   ID                                                   Usage      |\n",
            "|=============================================================================|\n",
            "|  No running processes found                                                 |\n",
            "+-----------------------------------------------------------------------------+\n"
          ]
        }
      ]
    },
    {
      "cell_type": "code",
      "source": [
        "# Get an example .pt weight file\n",
        "!gdown 14_de58ATIkWNtFADOIKZL8lmNo0R8bkk # or manually download from https://drive.google.com/file/d/14_de58ATIkWNtFADOIKZL8lmNo0R8bkk/view?usp=share_link\n"
      ],
      "metadata": {
        "colab": {
          "base_uri": "https://localhost:8080/"
        },
        "id": "dzFXrbaQlC_e",
        "outputId": "7d5018b9-57d7-45cd-ce4c-da0f0a964bc4"
      },
      "execution_count": 2,
      "outputs": [
        {
          "output_type": "stream",
          "name": "stdout",
          "text": [
            "Downloading...\n",
            "From: https://drive.google.com/uc?id=14_de58ATIkWNtFADOIKZL8lmNo0R8bkk\n",
            "To: /content/yolov5x6_best.pt\n",
            "100% 282M/282M [00:00<00:00, 298MB/s]\n"
          ]
        }
      ]
    },
    {
      "cell_type": "code",
      "execution_count": 3,
      "metadata": {
        "id": "3tKKX062k8V5"
      },
      "outputs": [],
      "source": [
        "%%capture\n",
        "!git clone https://github.com/ultralytics/yolov5 \n",
        "%cd yolov5\n",
        "!pip install -r requirements.txt coremltools onnx onnx-simplifier onnxruntime-gpu openvino-dev tensorflow tensorflowjs\n",
        "%cd .."
      ]
    },
    {
      "cell_type": "code",
      "source": [
        "# %%bash\n",
        "# cd .. && git clone https://github.com/zldrobit/tfjs-yolov5-example.git && cd tfjs-yolov5-example\n",
        "# npm install\n",
        "# ln -s ../../yolov5/yolov5s_web_model public/yolov5s_web_model\n",
        "# npm start"
      ],
      "metadata": {
        "id": "4jGQoysupkl_"
      },
      "execution_count": 4,
      "outputs": []
    },
    {
      "cell_type": "code",
      "source": [
        "!python ./yolov5/export.py --weights ./yolov5x6_best.pt --include tfjs\n",
        "# the folder model_name[_web_model] is the model in tfjs format"
      ],
      "metadata": {
        "colab": {
          "base_uri": "https://localhost:8080/"
        },
        "id": "36UW_7UElAiQ",
        "outputId": "7cb4007c-0384-4788-eb8c-e3096e8c3785"
      },
      "execution_count": 5,
      "outputs": [
        {
          "output_type": "stream",
          "name": "stdout",
          "text": [
            "\u001b[34m\u001b[1mexport: \u001b[0mdata=yolov5/data/coco128.yaml, weights=['./yolov5x6_best.pt'], imgsz=[640, 640], batch_size=1, device=cpu, half=False, inplace=False, keras=False, optimize=False, int8=False, dynamic=False, simplify=False, opset=12, verbose=False, workspace=4, nms=False, agnostic_nms=False, topk_per_class=100, topk_all=100, iou_thres=0.45, conf_thres=0.25, include=['tfjs']\n",
            "YOLOv5 🚀 v6.2-239-gf33718f Python-3.7.15 torch-1.12.1+cu113 CPU\n",
            "\n",
            "Fusing layers... \n",
            "Model summary: 416 layers, 140537980 parameters, 0 gradients, 209.1 GFLOPs\n",
            "\n",
            "\u001b[34m\u001b[1mPyTorch:\u001b[0m starting from yolov5x6_best.pt with output shape (1, 25500, 65) (269.0 MB)\n",
            "\n",
            "\u001b[34m\u001b[1mTensorFlow SavedModel:\u001b[0m starting export with tensorflow 2.9.2...\n",
            "\n",
            "                 from  n    params  module                                  arguments                     \n",
            "2022-11-12 02:34:34.277613: E tensorflow/stream_executor/cuda/cuda_driver.cc:271] failed call to cuInit: CUDA_ERROR_NO_DEVICE: no CUDA-capable device is detected\n",
            "  0                -1  1      8800  models.common.Conv                      [3, 80, 6, 2, 2]              \n",
            "  1                -1  1    115520  models.common.Conv                      [80, 160, 3, 2]               \n",
            "  2                -1  1    309120  models.common.C3                        [160, 160, 4]                 \n",
            "  3                -1  1    461440  models.common.Conv                      [160, 320, 3, 2]              \n",
            "  4                -1  1   2259200  models.common.C3                        [320, 320, 8]                 \n",
            "  5                -1  1   1844480  models.common.Conv                      [320, 640, 3, 2]              \n",
            "  6                -1  1  13125120  models.common.C3                        [640, 640, 12]                \n",
            "  7                -1  1   5531520  models.common.Conv                      [640, 960, 3, 2]              \n",
            "  8                -1  1  11070720  models.common.C3                        [960, 960, 4]                 \n",
            "  9                -1  1  11061760  models.common.Conv                      [960, 1280, 3, 2]             \n",
            " 10                -1  1  19676160  models.common.C3                        [1280, 1280, 4]               \n",
            " 11                -1  1   4099840  models.common.SPPF                      [1280, 1280, 5]               \n",
            " 12                -1  1   1230720  models.common.Conv                      [1280, 960, 1, 1]             \n",
            " 13                -1  1         0  torch.nn.modules.upsampling.Upsample    [None, 2, 'nearest']          \n",
            " 14           [-1, 8]  1         0  models.common.Concat                    [1]                           \n",
            " 15                -1  1  11992320  models.common.C3                        [1920, 960, 4, False]         \n",
            " 16                -1  1    615680  models.common.Conv                      [960, 640, 1, 1]              \n",
            " 17                -1  1         0  torch.nn.modules.upsampling.Upsample    [None, 2, 'nearest']          \n",
            " 18           [-1, 6]  1         0  models.common.Concat                    [1]                           \n",
            " 19                -1  1   5332480  models.common.C3                        [1280, 640, 4, False]         \n",
            " 20                -1  1    205440  models.common.Conv                      [640, 320, 1, 1]              \n",
            " 21                -1  1         0  torch.nn.modules.upsampling.Upsample    [None, 2, 'nearest']          \n",
            " 22           [-1, 4]  1         0  models.common.Concat                    [1]                           \n",
            " 23                -1  1   1335040  models.common.C3                        [640, 320, 4, False]          \n",
            " 24                -1  1    922240  models.common.Conv                      [320, 320, 3, 2]              \n",
            " 25          [-1, 20]  1         0  models.common.Concat                    [1]                           \n",
            " 26                -1  1   4922880  models.common.C3                        [640, 640, 4, False]          \n",
            " 27                -1  1   3687680  models.common.Conv                      [640, 640, 3, 2]              \n",
            " 28          [-1, 16]  1         0  models.common.Concat                    [1]                           \n",
            " 29                -1  1  11377920  models.common.C3                        [1280, 960, 4, False]         \n",
            " 30                -1  1   8296320  models.common.Conv                      [960, 960, 3, 2]              \n",
            " 31          [-1, 12]  1         0  models.common.Concat                    [1]                           \n",
            " 32                -1  1  20495360  models.common.C3                        [1920, 1280, 4, False]        \n",
            " 33  [23, 26, 29, 32]  1    624780  models.yolo.Detect                      [60, [[19, 27, 44, 40, 38, 94], [96, 68, 86, 152, 180, 137], [140, 301, 303, 264, 238, 542], [436, 615, 739, 380, 925, 792]], [320, 640, 960, 1280], [640, 640]]\n",
            "Model: \"model\"\n",
            "__________________________________________________________________________________________________\n",
            " Layer (type)                   Output Shape         Param #     Connected to                     \n",
            "==================================================================================================\n",
            " input_1 (InputLayer)           [(1, 640, 640, 3)]   0           []                               \n",
            "                                                                                                  \n",
            " tf_conv (TFConv)               (1, 320, 320, 80)    8720        ['input_1[0][0]']                \n",
            "                                                                                                  \n",
            " tf_conv_1 (TFConv)             (1, 160, 160, 160)   115360      ['tf_conv[0][0]']                \n",
            "                                                                                                  \n",
            " tfc3 (TFC3)                    (1, 160, 160, 160)   308160      ['tf_conv_1[0][0]']              \n",
            "                                                                                                  \n",
            " tf_conv_13 (TFConv)            (1, 80, 80, 320)     461120      ['tfc3[0][0]']                   \n",
            "                                                                                                  \n",
            " tfc3_1 (TFC3)                  (1, 80, 80, 320)     2256000     ['tf_conv_13[0][0]']             \n",
            "                                                                                                  \n",
            " tf_conv_33 (TFConv)            (1, 40, 40, 640)     1843840     ['tfc3_1[0][0]']                 \n",
            "                                                                                                  \n",
            " tfc3_2 (TFC3)                  (1, 40, 40, 640)     13116160    ['tf_conv_33[0][0]']             \n",
            "                                                                                                  \n",
            " tf_conv_61 (TFConv)            (1, 20, 20, 960)     5530560     ['tfc3_2[0][0]']                 \n",
            "                                                                                                  \n",
            " tfc3_3 (TFC3)                  (1, 20, 20, 960)     11064960    ['tf_conv_61[0][0]']             \n",
            "                                                                                                  \n",
            " tf_conv_73 (TFConv)            (1, 10, 10, 1280)    11060480    ['tfc3_3[0][0]']                 \n",
            "                                                                                                  \n",
            " tfc3_4 (TFC3)                  (1, 10, 10, 1280)    19668480    ['tf_conv_73[0][0]']             \n",
            "                                                                                                  \n",
            " tfsppf (TFSPPF)                (1, 10, 10, 1280)    4097920     ['tfc3_4[0][0]']                 \n",
            "                                                                                                  \n",
            " tf_conv_87 (TFConv)            (1, 10, 10, 960)     1229760     ['tfsppf[0][0]']                 \n",
            "                                                                                                  \n",
            " tf_upsample (TFUpsample)       (1, 20, 20, 960)     0           ['tf_conv_87[0][0]']             \n",
            "                                                                                                  \n",
            " tf_concat (TFConcat)           (1, 20, 20, 1920)    0           ['tf_upsample[0][0]',            \n",
            "                                                                  'tfc3_3[0][0]']                 \n",
            "                                                                                                  \n",
            " tfc3_5 (TFC3)                  (1, 20, 20, 960)     11986560    ['tf_concat[0][0]']              \n",
            "                                                                                                  \n",
            " tf_conv_99 (TFConv)            (1, 20, 20, 640)     615040      ['tfc3_5[0][0]']                 \n",
            "                                                                                                  \n",
            " tf_upsample_1 (TFUpsample)     (1, 40, 40, 640)     0           ['tf_conv_99[0][0]']             \n",
            "                                                                                                  \n",
            " tf_concat_1 (TFConcat)         (1, 40, 40, 1280)    0           ['tf_upsample_1[0][0]',          \n",
            "                                                                  'tfc3_2[0][0]']                 \n",
            "                                                                                                  \n",
            " tfc3_6 (TFC3)                  (1, 40, 40, 640)     5328640     ['tf_concat_1[0][0]']            \n",
            "                                                                                                  \n",
            " tf_conv_111 (TFConv)           (1, 40, 40, 320)     205120      ['tfc3_6[0][0]']                 \n",
            "                                                                                                  \n",
            " tf_upsample_2 (TFUpsample)     (1, 80, 80, 320)     0           ['tf_conv_111[0][0]']            \n",
            "                                                                                                  \n",
            " tf_concat_2 (TFConcat)         (1, 80, 80, 640)     0           ['tf_upsample_2[0][0]',          \n",
            "                                                                  'tfc3_1[0][0]']                 \n",
            "                                                                                                  \n",
            " tfc3_7 (TFC3)                  (1, 80, 80, 320)     1333120     ['tf_concat_2[0][0]']            \n",
            "                                                                                                  \n",
            " tf_conv_123 (TFConv)           (1, 40, 40, 320)     921920      ['tfc3_7[0][0]']                 \n",
            "                                                                                                  \n",
            " tf_concat_3 (TFConcat)         (1, 40, 40, 640)     0           ['tf_conv_123[0][0]',            \n",
            "                                                                  'tf_conv_111[0][0]']            \n",
            "                                                                                                  \n",
            " tfc3_8 (TFC3)                  (1, 40, 40, 640)     4919040     ['tf_concat_3[0][0]']            \n",
            "                                                                                                  \n",
            " tf_conv_135 (TFConv)           (1, 20, 20, 640)     3687040     ['tfc3_8[0][0]']                 \n",
            "                                                                                                  \n",
            " tf_concat_4 (TFConcat)         (1, 20, 20, 1280)    0           ['tf_conv_135[0][0]',            \n",
            "                                                                  'tf_conv_99[0][0]']             \n",
            "                                                                                                  \n",
            " tfc3_9 (TFC3)                  (1, 20, 20, 960)     11372160    ['tf_concat_4[0][0]']            \n",
            "                                                                                                  \n",
            " tf_conv_147 (TFConv)           (1, 10, 10, 960)     8295360     ['tfc3_9[0][0]']                 \n",
            "                                                                                                  \n",
            " tf_concat_5 (TFConcat)         (1, 10, 10, 1920)    0           ['tf_conv_147[0][0]',            \n",
            "                                                                  'tf_conv_87[0][0]']             \n",
            "                                                                                                  \n",
            " tfc3_10 (TFC3)                 (1, 10, 10, 1280)    20487680    ['tf_concat_5[0][0]']            \n",
            "                                                                                                  \n",
            " tf_detect (TFDetect)           ((1, 25500, 65),     624780      ['tfc3_7[0][0]',                 \n",
            "                                )                                 'tfc3_8[0][0]',                 \n",
            "                                                                  'tfc3_9[0][0]',                 \n",
            "                                                                  'tfc3_10[0][0]']                \n",
            "                                                                                                  \n",
            " tf.__operators__.getitem (Slic  (1, 25500, 4)       0           ['tf_detect[0][0]']              \n",
            " ingOpLambda)                                                                                     \n",
            "                                                                                                  \n",
            " tf.split (TFOpLambda)          [(1, 25500, 1),      0           ['tf.__operators__.getitem[0][0]'\n",
            "                                 (1, 25500, 1),                  ]                                \n",
            "                                 (1, 25500, 1),                                                   \n",
            "                                 (1, 25500, 1)]                                                   \n",
            "                                                                                                  \n",
            " tf.math.truediv (TFOpLambda)   (1, 25500, 1)        0           ['tf.split[0][2]']               \n",
            "                                                                                                  \n",
            " tf.math.truediv_1 (TFOpLambda)  (1, 25500, 1)       0           ['tf.split[0][3]']               \n",
            "                                                                                                  \n",
            " tf.math.truediv_2 (TFOpLambda)  (1, 25500, 1)       0           ['tf.split[0][2]']               \n",
            "                                                                                                  \n",
            " tf.math.truediv_3 (TFOpLambda)  (1, 25500, 1)       0           ['tf.split[0][3]']               \n",
            "                                                                                                  \n",
            " tf.math.subtract (TFOpLambda)  (1, 25500, 1)        0           ['tf.split[0][0]',               \n",
            "                                                                  'tf.math.truediv[0][0]']        \n",
            "                                                                                                  \n",
            " tf.math.subtract_1 (TFOpLambda  (1, 25500, 1)       0           ['tf.split[0][1]',               \n",
            " )                                                                'tf.math.truediv_1[0][0]']      \n",
            "                                                                                                  \n",
            " tf.__operators__.add (TFOpLamb  (1, 25500, 1)       0           ['tf.split[0][0]',               \n",
            " da)                                                              'tf.math.truediv_2[0][0]']      \n",
            "                                                                                                  \n",
            " tf.__operators__.add_1 (TFOpLa  (1, 25500, 1)       0           ['tf.split[0][1]',               \n",
            " mbda)                                                            'tf.math.truediv_3[0][0]']      \n",
            "                                                                                                  \n",
            " tf.__operators__.getitem_2 (Sl  (1, 25500, 60)      0           ['tf_detect[0][0]']              \n",
            " icingOpLambda)                                                                                   \n",
            "                                                                                                  \n",
            " tf.__operators__.getitem_1 (Sl  (1, 25500, 1)       0           ['tf_detect[0][0]']              \n",
            " icingOpLambda)                                                                                   \n",
            "                                                                                                  \n",
            " tf.concat (TFOpLambda)         (1, 25500, 4)        0           ['tf.math.subtract[0][0]',       \n",
            "                                                                  'tf.math.subtract_1[0][0]',     \n",
            "                                                                  'tf.__operators__.add[0][0]',   \n",
            "                                                                  'tf.__operators__.add_1[0][0]'] \n",
            "                                                                                                  \n",
            " tf.math.multiply (TFOpLambda)  (1, 25500, 60)       0           ['tf.__operators__.getitem_1[0][0\n",
            "                                                                 ]',                              \n",
            "                                                                  'tf.__operators__.getitem_2[0][0\n",
            "                                                                 ]']                              \n",
            "                                                                                                  \n",
            " agnostic_nms_1 (AgnosticNMS)   ((1, None, 4),       0           ['tf.concat[0][0]',              \n",
            "                                 (1, None),                       'tf.__operators__.getitem_2[0][0\n",
            "                                 (1, None),                      ]',                              \n",
            "                                 (1,))                            'tf.math.multiply[0][0]']       \n",
            "                                                                                                  \n",
            "==================================================================================================\n",
            "Total params: 140,537,980\n",
            "Trainable params: 0\n",
            "Non-trainable params: 140,537,980\n",
            "__________________________________________________________________________________________________\n",
            "Assets written to: yolov5x6_best_saved_model/assets\n",
            "\u001b[34m\u001b[1mTensorFlow SavedModel:\u001b[0m export success ✅ 44.8s, saved as yolov5x6_best_saved_model (536.8 MB)\n",
            "\n",
            "\u001b[34m\u001b[1mTensorFlow GraphDef:\u001b[0m starting export with tensorflow 2.9.2...\n",
            "\u001b[34m\u001b[1mTensorFlow GraphDef:\u001b[0m export success ✅ 11.7s, saved as yolov5x6_best.pb (536.7 MB)\n",
            "\n",
            "\u001b[34m\u001b[1mTensorFlow.js:\u001b[0m starting export with tensorflowjs 3.21.0...\n",
            "Writing weight file yolov5x6_best_web_model/model.json...\n",
            "\u001b[34m\u001b[1mTensorFlow.js:\u001b[0m export success ✅ 67.9s, saved as yolov5x6_best_web_model (536.6 MB)\n",
            "\n",
            "Export complete (129.2s)\n",
            "Results saved to \u001b[1m/content\u001b[0m\n",
            "Detect:          python detect.py --weights yolov5x6_best_web_model \n",
            "Validate:        python val.py --weights yolov5x6_best_web_model \n",
            "PyTorch Hub:     model = torch.hub.load('ultralytics/yolov5', 'custom', 'yolov5x6_best_web_model')  \n",
            "Visualize:       https://netron.app\n"
          ]
        }
      ]
    },
    {
      "cell_type": "code",
      "source": [
        "!zip -qq -r tfjs_model.zip ./yolov5x6_best_web_model"
      ],
      "metadata": {
        "id": "yzjn22cXlAok"
      },
      "execution_count": 14,
      "outputs": []
    }
  ]
}