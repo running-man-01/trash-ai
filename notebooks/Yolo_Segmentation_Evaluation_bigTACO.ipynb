{
  "cells": [
    {
      "cell_type": "markdown",
      "metadata": {
        "id": "qN8V989HzHDT"
      },
      "source": [
        "This notebook: accuracy evaluation for yolov5 segmentation on TACO (1500 images)\n",
        "\n",
        "- result: around 8% accuracy improvement compared with previous yolov5 model (~60% -> ~68%)\n",
        "\n",
        "\n",
        "Using `Google Colab` to view this notebook is highly recommended."
      ]
    },
    {
      "cell_type": "code",
      "execution_count": 36,
      "metadata": {
        "id": "R_Dc3-3xaTwr"
      },
      "outputs": [],
      "source": [
        "mount_drive = True # set to true only if you have weights and images in your own google drive\n",
        "low_memory = True # True if your instance has low memory\n",
        "\n",
        "reduced = True #True if using reduced classes (28 categories)"
      ]
    },
    {
      "cell_type": "code",
      "execution_count": 37,
      "metadata": {
        "colab": {
          "base_uri": "https://localhost:8080/"
        },
        "id": "0D7J191IYwp8",
        "outputId": "e520b1d4-4a0e-40cd-a026-903ba5a5a3e6"
      },
      "outputs": [
        {
          "output_type": "stream",
          "name": "stdout",
          "text": [
            "Sun Jan 22 17:55:41 2023       \n",
            "+-----------------------------------------------------------------------------+\n",
            "| NVIDIA-SMI 460.32.03    Driver Version: 460.32.03    CUDA Version: 11.2     |\n",
            "|-------------------------------+----------------------+----------------------+\n",
            "| GPU  Name        Persistence-M| Bus-Id        Disp.A | Volatile Uncorr. ECC |\n",
            "| Fan  Temp  Perf  Pwr:Usage/Cap|         Memory-Usage | GPU-Util  Compute M. |\n",
            "|                               |                      |               MIG M. |\n",
            "|===============================+======================+======================|\n",
            "|   0  Tesla T4            Off  | 00000000:00:04.0 Off |                    0 |\n",
            "| N/A   66C    P0    30W /  70W |      0MiB / 15109MiB |      0%      Default |\n",
            "|                               |                      |                  N/A |\n",
            "+-------------------------------+----------------------+----------------------+\n",
            "                                                                               \n",
            "+-----------------------------------------------------------------------------+\n",
            "| Processes:                                                                  |\n",
            "|  GPU   GI   CI        PID   Type   Process name                  GPU Memory |\n",
            "|        ID   ID                                                   Usage      |\n",
            "|=============================================================================|\n",
            "|  No running processes found                                                 |\n",
            "+-----------------------------------------------------------------------------+\n"
          ]
        }
      ],
      "source": [
        "!nvidia-smi"
      ]
    },
    {
      "cell_type": "markdown",
      "metadata": {
        "id": "_9jgRJYlL_-H"
      },
      "source": [
        "# 0. Prep works\n",
        "- install yolov5, download and partition datasets"
      ]
    },
    {
      "cell_type": "code",
      "execution_count": 38,
      "metadata": {
        "id": "cJDeErmxIuY8"
      },
      "outputs": [],
      "source": [
        "%%bash\n",
        "cd /content/\n",
        "rm -rf /content/*\n",
        "#find . \\! -name 'rotated2.zip' -delete\n",
        "\n",
        "# sudo fallocate -l 64G /swapfile\n",
        "# sudo chmod 600 /swapfile\n",
        "# sudo mkswap /swapfile\n",
        "# sudo swapon /swapfile\n",
        "# free -h  # check memory"
      ]
    },
    {
      "cell_type": "code",
      "execution_count": 39,
      "metadata": {
        "id": "2TTOdqkAk_Ad"
      },
      "outputs": [],
      "source": [
        "%%capture\n",
        "!git clone https://github.com/ultralytics/yolov5 \n",
        "%cd yolov5\n",
        "!pip install -r requirements.txt #wandb\n",
        "%cd .."
      ]
    },
    {
      "cell_type": "code",
      "execution_count": 40,
      "metadata": {
        "id": "FBHHieZsCbGS"
      },
      "outputs": [],
      "source": [
        "%%capture\n",
        "!wget https://raw.githubusercontent.com/scikit-multilearn/scikit-multilearn/master/skmultilearn/model_selection/iterative_stratification.py\n",
        "from iterative_stratification import *\n",
        "from collections import Counter\n",
        "\n",
        "from PIL import Image, ExifTags\n",
        "from pycocotools.coco import COCO\n",
        "from matplotlib.patches import Polygon, Rectangle\n",
        "from matplotlib.collections import PatchCollection\n",
        "import colorsys\n",
        "import random\n",
        "import pylab\n",
        "\n",
        "import json\n",
        "import numpy as np\n",
        "import pandas as pd\n",
        "import matplotlib.pyplot as plt\n",
        "import seaborn as sns; sns.set()\n",
        "\n",
        "import shutil\n",
        "import os\n",
        "import re\n",
        "\n",
        "import torch\n",
        "from torch.utils.data import Dataset, DataLoader\n",
        "from torchvision import transforms, utils\n",
        "\n",
        "from functools import partial\n",
        "from tqdm import tqdm\n",
        "tqdm = partial(tqdm, position=0, leave=True)"
      ]
    },
    {
      "cell_type": "code",
      "execution_count": 41,
      "metadata": {
        "colab": {
          "base_uri": "https://localhost:8080/"
        },
        "id": "M0nSxY0wdrr2",
        "outputId": "d4459327-6407-4980-f631-e8ccde24972c"
      },
      "outputs": [
        {
          "output_type": "stream",
          "name": "stdout",
          "text": [
            "Drive already mounted at /gdrive; to attempt to forcibly remount, call drive.mount(\"/gdrive\", force_remount=True).\n"
          ]
        }
      ],
      "source": [
        "if mount_drive:\n",
        "  from google.colab import drive\n",
        "  drive.mount('/gdrive')\n",
        "  %cp /gdrive/MyDrive/yolo_seg_bigTACO/exp/weights/best.pt /content/weights.pt    \n",
        "\n",
        "  if not os.path.isfile('/content/rotated2.zip'):\n",
        "    %cp /gdrive/MyDrive/bigTACO_0119.zip /content/rotated2.zip #get images\n",
        "\n"
      ]
    },
    {
      "cell_type": "code",
      "source": [
        "!unzip -qq /content/rotated2.zip "
      ],
      "metadata": {
        "id": "Dlqg2aqWLyap"
      },
      "execution_count": 42,
      "outputs": []
    },
    {
      "cell_type": "code",
      "execution_count": 43,
      "metadata": {
        "id": "wrpSIe5OWTF1"
      },
      "outputs": [],
      "source": [
        "%%capture\n",
        "!wget https://raw.githubusercontent.com/pedropro/TACO/master/data/annotations.json\n",
        "!wget https://raw.githubusercontent.com/pedropro/TACO/master/data/annotations_unofficial.json\n",
        "\n",
        "base_anno = './annotations.json'\n",
        "unof_anno =  './annotations_unofficial.json'\n",
        "\n",
        "base_coco_anno = COCO(annotation_file=base_anno)\n",
        "unof_coco_anno = COCO(annotation_file=unof_anno)\n",
        "\n",
        "with open(base_anno, 'r') as f:\n",
        "    base_anno = json.loads(f.read())\n",
        "\n",
        "with open(unof_anno, 'r') as f:\n",
        "    unof_anno = json.loads(f.read())   \n",
        "\n",
        "# get the \"id to superid\" relationship\n",
        "supercat_cat_id = [[i['supercategory'],i['name'],i['id']] for i in base_anno['categories']]\n",
        "id_supercat = {i[2]:i[0] for i in supercat_cat_id}\n",
        "super_id = {j:i for i,j in enumerate(list(dict.fromkeys([(j) for i,j in enumerate([i['supercategory'] for i in base_anno['categories']])])))}\n",
        "id_superid = {i:super_id[id_supercat[i]] for i in range(60)}\n",
        "\n",
        "anno_path = './annotations.json'\n",
        "annos = COCO(annotation_file=anno_path)\n",
        "with open(anno_path, 'r') as f:\n",
        "    annos_json = json.loads(f.read())\n",
        "no_to_clname = {i:j for i,j in enumerate([i['name'] for i in annos_json['categories']])}"
      ]
    },
    {
      "cell_type": "code",
      "source": [
        "a = dict.fromkeys([i[0] for i in supercat_cat_id])\n",
        "number_superid = {i:j for i,j in enumerate(a.keys())}"
      ],
      "metadata": {
        "id": "57KY-T7JuRwN"
      },
      "execution_count": 44,
      "outputs": []
    },
    {
      "cell_type": "code",
      "execution_count": 45,
      "metadata": {
        "id": "nbwKD15fKpfa",
        "colab": {
          "base_uri": "https://localhost:8080/"
        },
        "outputId": "717426d6-091d-48ee-93f1-bfe2343068b6"
      },
      "outputs": [
        {
          "output_type": "stream",
          "name": "stderr",
          "text": [
            "100%|██████████| 5300/5300 [00:00<00:00, 10483.44it/s]\n"
          ]
        }
      ],
      "source": [
        "import copy\n",
        "dst = \"./bigTACO\"\n",
        "%rm -rf ./bigTACO/labels #reset labels\n",
        "!mkdir ./bigTACO/labels\n",
        "\n",
        "\n",
        "\n",
        "bbox_thold = 50*50 # threshold of bbox under which bbox will be discarded for being too small\n",
        "                  # threshold = width*height, e.g. 40*40 = 1600 pixels\n",
        "\n",
        "base_imgs = base_anno['images']\n",
        "unof_imgs = unof_anno['images']\n",
        "\n",
        "counter = 0\n",
        "\n",
        "bbox_thold=50*50\n",
        "bad_annotation=[]\n",
        "\n",
        "for img in tqdm(base_imgs+unof_imgs):\n",
        "  height = img['height']\n",
        "  width = img['width']\n",
        "\n",
        "  # reorganize images\n",
        "  img_id = img['id']\n",
        "  if counter>=1500: img_id+=1500\n",
        "\n",
        "  # reorganize annotations\n",
        "  img_id_ = img['id']\n",
        "  if counter<1500: \n",
        "    annotation_ids = base_coco_anno.getAnnIds(img_id_)\n",
        "  else: \n",
        "    annotation_ids = unof_coco_anno.getAnnIds(img_id_)\n",
        "\n",
        "  if len(annotation_ids) == 0:\n",
        "    continue\n",
        "\n",
        "\n",
        "\n",
        "  with open(dst+'/labels/'+str(img_id)+'.txt', mode='w') as fp:\n",
        "    if counter<1500: annotations = base_coco_anno.loadAnns(annotation_ids)\n",
        "    else: annotations = unof_coco_anno.loadAnns(annotation_ids)\n",
        "    lines = ''\n",
        "    for annotation in annotations:\n",
        "      label = copy.copy(annotation['category_id'])\n",
        "      if reduced: label = id_superid[label]\n",
        "      box = copy.copy(annotation['bbox'])\n",
        "      # some annotations have basically no width / height (extremely small), skip them\n",
        "      if box[2] * box[3] < bbox_thold:\n",
        "        # uncomment below line to see which images have bbox skipped\n",
        "        #print('bbox too small, skipped. skipped bbox is in image ID:'+ str(img_id))\n",
        "        continue\n",
        "      # top_x,top_y,width,height ----> cen_x,cen_y,width,height\n",
        "      # standardize to 0-1\n",
        "      box[0] = round((box[0] + box[2] / 2) / width, 6)\n",
        "      box[1] = round((box[1] + box[3] / 2) / height, 6)\n",
        "      box[2] = round(box[2] / width, 6)\n",
        "      box[3] = round(box[3] / height, 6)\n",
        "      # line: super_id x_center y_center width height\n",
        "      lines += str(label)\n",
        "      for i in box:\n",
        "        lines += ' ' + str(i)\n",
        "      lines = lines+ '\\n'\n",
        "    fp.writelines(lines)\n",
        "  counter+=1"
      ]
    },
    {
      "cell_type": "code",
      "execution_count": 46,
      "metadata": {
        "colab": {
          "base_uri": "https://localhost:8080/"
        },
        "id": "CPFCzX31IGBq",
        "outputId": "93372cc3-8e02-4275-b51a-2a48308e3139"
      },
      "outputs": [
        {
          "output_type": "stream",
          "name": "stdout",
          "text": [
            "Number of all images:\n",
            "5300\n"
          ]
        },
        {
          "output_type": "stream",
          "name": "stderr",
          "text": [
            "100%|██████████| 5300/5300 [00:10<00:00, 525.17it/s]\n"
          ]
        }
      ],
      "source": [
        "nr_imgs=None\n",
        "for root, dirnames, filenames in os.walk('./bigTACO/labels/'):\n",
        "  nr_imgs = len(filenames)\n",
        "  break\n",
        "print('Number of all images:\\n'+str(nr_imgs))\n",
        "\n",
        "if reduced: \n",
        "  nr_class = 28\n",
        "else: nr_class = 60\n",
        "\n",
        "\n",
        "xy = {}\n",
        "for i in tqdm(range(nr_imgs)):\n",
        "  try: \n",
        "    X = open('./bigTACO/labels/'+str(i)+'.txt','r')\n",
        "    lines = X.readlines()\n",
        "    classes = [int(line.split()[0]) for line in lines]\n",
        "    x = pd.DataFrame([Counter(classes)],columns=[*range(nr_class)]).fillna(0).astype(int).iloc[[0]].squeeze().tolist()\n",
        "    y=i\n",
        "    xy[y]=x\n",
        "\n",
        "  except: \n",
        "    print('\\nimage id number '+str(i)+' skipped due to no label found')\n",
        "    pass\n",
        "X = pd.DataFrame.from_dict(xy, orient='index')\n",
        "\n",
        "y = xy.keys()\n",
        "one_hot_y = pd.get_dummies(y)\n",
        "\n",
        "## train test split\n",
        "'''\n",
        "train: images/train\n",
        "val: images/val\n",
        "test: images/test\n",
        "'''\n",
        "\n",
        "np.random.seed(123) # sk-multilearn is based on sk, sk uses np random state. \n",
        "                  # so, setting np random seed will clamp the results of iterative_train_test_split\n",
        "\n",
        "X_train, y_train, X_temp, y_temp = iterative_train_test_split(X.values, one_hot_y.values, test_size = 0.5)\n",
        "X_train1, y_train1, X_val, y_val = iterative_train_test_split(X_temp, y_temp, test_size = 0.5)\n",
        "X_val, y_val,X_test,y_test = iterative_train_test_split(X_val, y_val, test_size = 0.5)\n",
        "\n",
        "# ISSUE: in this environment, any test_size!= 0.5 results in nothing in testing set. \n",
        "# therefore train/val/test split is roughly .75, .125, .125\n",
        "\n",
        "y_train = np.vstack((y_train,y_train1))\n",
        "train_ids,val_ids,test_ids = pd.DataFrame(y_train,columns = y).idxmax(axis=1).tolist(),\\\n",
        "                            pd.DataFrame(y_val,columns = y).idxmax(axis=1).tolist(),\\\n",
        "                            pd.DataFrame(y_test,columns = y).idxmax(axis=1).tolist()\n"
      ]
    },
    {
      "cell_type": "code",
      "execution_count": 47,
      "metadata": {
        "id": "g_66okFNgHUF",
        "colab": {
          "base_uri": "https://localhost:8080/",
          "height": 579
        },
        "outputId": "a4fc4161-54d4-4b3b-80aa-9c859906b216"
      },
      "outputs": [
        {
          "output_type": "display_data",
          "data": {
            "text/plain": [
              "<Figure size 960x640 with 1 Axes>"
            ],
            "image/png": "[encoded data removed]"
          },
          "metadata": {}
        }
      ],
      "source": [
        "# Visual check of train-test split\n",
        "\n",
        "def list_add(list1, list2): return [sum(x) for x in zip(list1, list2)]\n",
        "def vis(img_id_list):\n",
        "  vis=[0]*nr_class\n",
        "  for i in img_id_list:\n",
        "    X = open('./bigTACO/labels/'+str(i)+'.txt','r')\n",
        "    lines = X.readlines()\n",
        "    classes = [int(line.split()[0]) for line in lines]\n",
        "    x_ = pd.DataFrame([Counter(classes)],columns=[*range(nr_class)]).fillna(0).astype(int).iloc[[0]].squeeze().tolist()\n",
        "    vis=list_add(vis,x_)\n",
        "  return vis\n",
        "\n",
        "from matplotlib.pyplot import figure\n",
        "figure(figsize=(12, 8), dpi=80)\n",
        "\n",
        "plt.bar([*range(nr_class)],vis(train_ids), width = 1, label = 'Train')\n",
        "plt.bar([*range(nr_class)],vis(val_ids), width = 1, label = 'Val',alpha = 0.5)\n",
        "plt.bar([*range(nr_class)],vis(test_ids), width = 1, label = 'Test',alpha = 0.5)\n",
        "\n",
        "plt.xticks([*range(nr_class)],rotation = 75)\n",
        "plt.xlabel(\"Class_id\")\n",
        "plt.ylabel(\"Number of occurrence\")\n",
        "plt.title(\"Class distribution in Train/Val/Test sets\")\n",
        "plt.legend()\n",
        "plt.show()"
      ]
    },
    {
      "cell_type": "code",
      "source": [
        "!ls"
      ],
      "metadata": {
        "colab": {
          "base_uri": "https://localhost:8080/"
        },
        "id": "lBbovfu7TSj8",
        "outputId": "66ad1d4c-f7cc-4b7a-f592-114b5f483ed8"
      },
      "execution_count": 48,
      "outputs": [
        {
          "output_type": "stream",
          "name": "stdout",
          "text": [
            "annotations.json\t     bigTACO\t\t\t  rotated2.zip\tyolov5\n",
            "annotations_unofficial.json  iterative_stratification.py  weights.pt\n"
          ]
        }
      ]
    },
    {
      "cell_type": "code",
      "execution_count": 49,
      "metadata": {
        "id": "kwCWClsrSD4z"
      },
      "outputs": [],
      "source": [
        "def move_helper(ids, desti):\n",
        "  for id in ids:\n",
        "    img_name = os.path.join( './bigTACO/images', str(id)+'.jpg' )\n",
        "    lbl_name = os.path.join( './bigTACO/labels', str(id)+'.txt' )\n",
        "    # print(img_name)\n",
        "    if os.path.isfile(img_name):\n",
        "        shutil.copy( img_name, './bigTACO/images/'+desti)\n",
        "        shutil.copy( lbl_name, './bigTACO/labels/'+desti)\n",
        "    else :\n",
        "        print('file does not exist', img_name)\n",
        "\n",
        "!mkdir bigTACO/images/{train,val,test}\n",
        "!mkdir bigTACO/labels/{train,val,test}\n",
        "\n",
        "move_helper(test_ids,'test')\n",
        "move_helper(train_ids,'train')\n",
        "move_helper(val_ids,'val')\n"
      ]
    },
    {
      "cell_type": "code",
      "execution_count": 50,
      "metadata": {
        "id": "gHyjxWAW7DF0"
      },
      "outputs": [],
      "source": [
        "# %%bash\n",
        "# mkdir ./datasets\n",
        "# mv yoloTACO ./datasets/"
      ]
    },
    {
      "cell_type": "code",
      "execution_count": 50,
      "metadata": {
        "id": "S96FWSElHY9d"
      },
      "outputs": [],
      "source": []
    },
    {
      "cell_type": "code",
      "execution_count": 51,
      "metadata": {
        "id": "evH7jgs5Dnj7"
      },
      "outputs": [],
      "source": [
        "#@title yml\n",
        "\n",
        "if reduced == True:\n",
        "\n",
        "  with open('/content/yolov5/data/TACO.yaml', mode='w') as fp:\n",
        "    lines = '''path: ../bigTACO  # dataset root dir\n",
        "train: images/train  # train images \n",
        "val: images/val  # val images \n",
        "test: images/test # test images (optional)\n",
        "\n",
        "# Classes\n",
        "names:\n",
        "  0: Aluminium foil\n",
        "  1: Battery\n",
        "  2: Blister pack\n",
        "  3: Bottle\n",
        "  4: Bottle cap\n",
        "  5: Broken glass\n",
        "  6: Can\n",
        "  7: Carton\n",
        "  8: Cup\n",
        "  9: Food waste\n",
        "  10: Glass jar\n",
        "  11: Lid\n",
        "  12: Other plastic\n",
        "  13: Paper\n",
        "  14: Paper bag\n",
        "  15: Plastic bag & wrapper\n",
        "  16: Plastic container\n",
        "  17: Plastic glooves\n",
        "  18: Plastic utensils\n",
        "  19: Pop tab\n",
        "  20: Rope & strings\n",
        "  21: Scrap metal\n",
        "  22: Shoe\n",
        "  23: Squeezable tube\n",
        "  24: Straw\n",
        "  25: Styrofoam piece\n",
        "  26: Unlabeled litter\n",
        "  27: Cigarette'''\n",
        "    fp.writelines(lines)\n",
        "\n",
        "else: \n",
        "  with open('/content/yolov5/data/TACO.yaml', mode='w') as fp:\n",
        "    lines = '''path: ../bigTACO  # dataset root dir\n",
        "train: images/train  # train images (relative to 'path') 128 images\n",
        "val: images/val  # val images (relative to 'path') 128 images\n",
        "test: images/test # test images (optional)\n",
        "\n",
        "# Classes\n",
        "names:\n",
        "  0: Aluminium foil\n",
        "  1: Battery\n",
        "  2: Aluminium blister pack\n",
        "  3: Carded blister pack\n",
        "  4: Other plastic bottle\n",
        "  5: Clear plastic bottle\n",
        "  6: Glass bottle\n",
        "  7: Plastic bottle cap\n",
        "  8: Metal bottle cap\n",
        "  9: Broken glass\n",
        "  10: Food Can\n",
        "  11: Aerosol\n",
        "  12: Drink can\n",
        "  13: Toilet tube\n",
        "  14: Other carton\n",
        "  15: Egg carton\n",
        "  16: Drink carton\n",
        "  17: Corrugated carton\n",
        "  18: Meal carton\n",
        "  19: Pizza box\n",
        "  20: Paper cup\n",
        "  21: Disposable plastic cup\n",
        "  22: Foam cup\n",
        "  23: Glass cup\n",
        "  24: Other plastic cup\n",
        "  25: Food waste\n",
        "  26: Glass jar\n",
        "  27: Plastic lid\n",
        "  28: Metal lid\n",
        "  29: Other plastic\n",
        "  30: Magazine paper\n",
        "  31: Tissues\n",
        "  32: Wrapping paper\n",
        "  33: Normal paper\n",
        "  34: Paper bag\n",
        "  35: Plastified paper bag\n",
        "  36: Plastic film\n",
        "  37: Six pack rings\n",
        "  38: Garbage bag\n",
        "  39: Other plastic wrapper\n",
        "  40: Single-use carrier bag\n",
        "  41: Polypropylene bag\n",
        "  42: Crisp packet\n",
        "  43: Spread tub\n",
        "  44: Tupperware\n",
        "  45: Disposable food container\n",
        "  46: Foam food container\n",
        "  47: Other plastic container\n",
        "  48: Plastic glooves\n",
        "  49: Plastic utensils\n",
        "  50: Pop tab\n",
        "  51: Rope & strings\n",
        "  52: Scrap metal\n",
        "  53: Shoe\n",
        "  54: Squeezable tube\n",
        "  55: Plastic straw\n",
        "  56: Paper straw\n",
        "  57: Styrofoam piece\n",
        "  58: Unlabeled litter\n",
        "  59: Cigarette'''\n",
        "    fp.writelines(lines)"
      ]
    },
    {
      "cell_type": "markdown",
      "metadata": {
        "id": "C37qgWyEMLpj"
      },
      "source": [
        "# 1. Evaluate"
      ]
    },
    {
      "cell_type": "markdown",
      "metadata": {
        "id": "5Ay3MOsDN90j"
      },
      "source": [
        "## 1.1 detect with torch framework\n"
      ]
    },
    {
      "cell_type": "code",
      "source": [],
      "metadata": {
        "id": "Mvj52IhRZGjE"
      },
      "execution_count": 51,
      "outputs": []
    },
    {
      "cell_type": "code",
      "source": [
        "%%capture\n",
        "%rm -rf /content/yolov5/runs/predict-seg/*\n",
        "!python /content/yolov5/segment/predict.py \\\n",
        "--weights /content/weights.pt \\\n",
        "--source /content/bigTACO/images/test --save-txt"
      ],
      "metadata": {
        "id": "iKQhAXOhcSw3"
      },
      "execution_count": 52,
      "outputs": []
    },
    {
      "cell_type": "code",
      "source": [
        "def pred_getter(img_id):\n",
        "  try: img = base_imgs[img_id]\n",
        "  except: img = unof_imgs[img_id-1500]\n",
        "  \n",
        "  img_height = img['height']\n",
        "  img_width = img['width']\n",
        "  \n",
        "  pred_path = '/content/yolov5/runs/predict-seg/exp/labels/'\n",
        "  X = open(pred_path+str(img_id)+'.txt','r')\n",
        "\n",
        "  lines = X.readlines()\n",
        "  lines = [i.replace('\\n','') for i in lines]\n",
        "  lines = [i.split(' ') for i in lines]\n",
        "\n",
        "  bboxes = []\n",
        "  for i in lines:\n",
        "    cache,x,y = [],[],[]\n",
        "\n",
        "    for j in i:\n",
        "      cache.append(float(j))\n",
        "\n",
        "    for id,i in enumerate(cache[1:]):\n",
        "      if id%2==0: x.append(i)\n",
        "      else: y.append(i)\n",
        "\n",
        "    # cen_x,cen_y,width,height  \n",
        "\n",
        "    bbox = [int(cache[0]), (max(x)+min(x))/2,(max(y)+min(y))/2,(max(x)-min(x)),(max(y)-min(y))]\n",
        "    bboxes.append(bbox)\n",
        "\n",
        "  cache = pd.DataFrame(bboxes,columns = ['class','xcenter','ycenter','width','height'])\n",
        "\n",
        "  cache[\"xcenter\"] = img_width * cache[\"xcenter\"]\n",
        "  cache[\"ycenter\"] = img_height * cache[\"ycenter\"]\n",
        "  cache[\"width\"] = img_width * cache[\"width\"]\n",
        "  cache[\"height\"] = img_height * cache[\"height\"]\n",
        "\n",
        "  cache = cache.assign(confidence = ['n/a']*cache.shape[0])\n",
        "  cache = cache.assign(class_name = [number_superid[i] for i in cache['class'].tolist()])\n",
        "  cache = cache.reindex(columns=['xcenter','ycenter','width','height','confidence','class','class_name'])\n",
        "  cache = cache.assign(image_id = [img_id]*cache.shape[0])\n",
        "  return cache\n",
        "\n",
        "def truth_getter(img_id):\n",
        "\n",
        "  try: img = base_imgs[img_id]\n",
        "  except: img = unof_imgs[img_id-1500]\n",
        "\n",
        "  img_height = img['height']\n",
        "  img_width = img['width']\n",
        "\n",
        "  cache = pd.read_csv('./bigTACO/labels/'+str(img_id)+'.txt',header=None,\n",
        "                      names = ['class','xcenter','ycenter','width','height'],delimiter=' ')\n",
        "  #print(img_id)\n",
        "  cache[\"xcenter\"] = img_width * cache[\"xcenter\"]\n",
        "  cache[\"ycenter\"] = img_height * cache[\"ycenter\"]\n",
        "  cache[\"width\"] = img_width * cache[\"width\"]\n",
        "  cache[\"height\"] = img_height * cache[\"height\"]\n",
        "\n",
        "  cache = cache.assign(confidence = [1]*cache.shape[0])\n",
        "  cache = cache.assign(class_name = [number_superid[i] for i in cache['class'].tolist()])\n",
        "  cache = cache.reindex(columns=['xcenter','ycenter','width','height','confidence','class','class_name'])\n",
        "  cache = cache.assign(image_id = [img_id]*cache.shape[0])\n",
        "  # cache = cache.assign(img_width = [width]*cache.shape[0])\n",
        "  # cache = cache.assign(img_height = [height]*cache.shape[0])\n",
        "\n",
        "  return cache\n"
      ],
      "metadata": {
        "id": "-oDhkuoLqMoD"
      },
      "execution_count": 53,
      "outputs": []
    },
    {
      "cell_type": "code",
      "source": [],
      "metadata": {
        "id": "L5wmmlaiRImx"
      },
      "execution_count": 53,
      "outputs": []
    },
    {
      "cell_type": "code",
      "source": [
        "pred_pd = []\n",
        "for i in test_ids:\n",
        "  try: pred_pd.append(pred_getter(i))\n",
        "  except: pred_pd.append(pd.DataFrame(columns=['xcenter','ycenter','width','height','confidence','class','class_name'] ))\n",
        "\n",
        "truth_pd=[]\n",
        "for i in test_ids:\n",
        "  truth_pd.append(truth_getter(i))"
      ],
      "metadata": {
        "id": "6WdHH_hapdS3"
      },
      "execution_count": 54,
      "outputs": []
    },
    {
      "cell_type": "markdown",
      "metadata": {
        "id": "QNrQCtxcBiw0"
      },
      "source": [
        "## 1.2 example prediction and truth"
      ]
    },
    {
      "cell_type": "code",
      "execution_count": 55,
      "metadata": {
        "colab": {
          "base_uri": "https://localhost:8080/"
        },
        "id": "WuvboCQRLUvU",
        "outputId": "cd939447-cf31-45be-ff01-14451d328b4d"
      },
      "outputs": [
        {
          "output_type": "execute_result",
          "data": {
            "text/plain": [
              "[      xcenter      ycenter        width      height confidence  class  \\\n",
              " 0  781.308590   273.611607  1504.979679  515.535715        n/a     15   \n",
              " 1  653.225000  1018.095850    25.615642   38.424897        n/a      4   \n",
              " 2  888.578125  1178.199588   477.109392  358.632372        n/a      3   \n",
              " \n",
              "               class_name  image_id  \n",
              " 0  Plastic bag & wrapper         2  \n",
              " 1             Bottle cap         2  \n",
              " 2                 Bottle         2  ,\n",
              "        xcenter      ycenter       width      height confidence  class  \\\n",
              " 0   717.099800   768.500000  454.695639  377.846858        n/a      6   \n",
              " 1  1303.081015   927.003125  166.507887  233.753108        n/a     15   \n",
              " 2   433.715826  1227.998446  457.898431  585.981250        n/a      3   \n",
              " \n",
              "               class_name  image_id  \n",
              " 0                    Can         3  \n",
              " 1  Plastic bag & wrapper         3  \n",
              " 2                 Bottle         3  ]"
            ]
          },
          "metadata": {},
          "execution_count": 55
        }
      ],
      "source": [
        "pred_pd[:2] \n",
        "# predictions for first two images\n",
        "# there will be a list of two dataframes"
      ]
    },
    {
      "cell_type": "code",
      "execution_count": 56,
      "metadata": {
        "colab": {
          "base_uri": "https://localhost:8080/",
          "height": 81
        },
        "id": "qwJA0H4QrHYC",
        "outputId": "565deb4c-9988-4cff-d1c9-7ea94613d14c"
      },
      "outputs": [
        {
          "output_type": "execute_result",
          "data": {
            "text/plain": [
              "      xcenter      ycenter       width       height  confidence  class  \\\n",
              "0  693.500548  1001.499975  357.000527  1124.999352           1      6   \n",
              "\n",
              "  class_name  image_id  \n",
              "0        Can         6  "
            ],
            "text/html": [
              "\n",
              "  <div id=\"df-61f8176d-d079-4b36-b83f-3ef6533a7dbb\">\n",
              "    <div class=\"colab-df-container\">\n",
              "      <div>\n",
              "<style scoped>\n",
              "    .dataframe tbody tr th:only-of-type {\n",
              "        vertical-align: middle;\n",
              "    }\n",
              "\n",
              "    .dataframe tbody tr th {\n",
              "        vertical-align: top;\n",
              "    }\n",
              "\n",
              "    .dataframe thead th {\n",
              "        text-align: right;\n",
              "    }\n",
              "</style>\n",
              "<table border=\"1\" class=\"dataframe\">\n",
              "  <thead>\n",
              "    <tr style=\"text-align: right;\">\n",
              "      <th></th>\n",
              "      <th>xcenter</th>\n",
              "      <th>ycenter</th>\n",
              "      <th>width</th>\n",
              "      <th>height</th>\n",
              "      <th>confidence</th>\n",
              "      <th>class</th>\n",
              "      <th>class_name</th>\n",
              "      <th>image_id</th>\n",
              "    </tr>\n",
              "  </thead>\n",
              "  <tbody>\n",
              "    <tr>\n",
              "      <th>0</th>\n",
              "      <td>693.500548</td>\n",
              "      <td>1001.499975</td>\n",
              "      <td>357.000527</td>\n",
              "      <td>1124.999352</td>\n",
              "      <td>1</td>\n",
              "      <td>6</td>\n",
              "      <td>Can</td>\n",
              "      <td>6</td>\n",
              "    </tr>\n",
              "  </tbody>\n",
              "</table>\n",
              "</div>\n",
              "      <button class=\"colab-df-convert\" onclick=\"convertToInteractive('df-61f8176d-d079-4b36-b83f-3ef6533a7dbb')\"\n",
              "              title=\"Convert this dataframe to an interactive table.\"\n",
              "              style=\"display:none;\">\n",
              "        \n",
              "  <svg xmlns=\"http://www.w3.org/2000/svg\" height=\"24px\"viewBox=\"0 0 24 24\"\n",
              "       width=\"24px\">\n",
              "    <path d=\"M0 0h24v24H0V0z\" fill=\"none\"/>\n",
              "    <path d=\"M18.56 5.44l.94 2.06.94-2.06 2.06-.94-2.06-.94-.94-2.06-.94 2.06-2.06.94zm-11 1L8.5 8.5l.94-2.06 2.06-.94-2.06-.94L8.5 2.5l-.94 2.06-2.06.94zm10 10l.94 2.06.94-2.06 2.06-.94-2.06-.94-.94-2.06-.94 2.06-2.06.94z\"/><path d=\"M17.41 7.96l-1.37-1.37c-.4-.4-.92-.59-1.43-.59-.52 0-1.04.2-1.43.59L10.3 9.45l-7.72 7.72c-.78.78-.78 2.05 0 2.83L4 21.41c.39.39.9.59 1.41.59.51 0 1.02-.2 1.41-.59l7.78-7.78 2.81-2.81c.8-.78.8-2.07 0-2.86zM5.41 20L4 18.59l7.72-7.72 1.47 1.35L5.41 20z\"/>\n",
              "  </svg>\n",
              "      </button>\n",
              "      \n",
              "  <style>\n",
              "    .colab-df-container {\n",
              "      display:flex;\n",
              "      flex-wrap:wrap;\n",
              "      gap: 12px;\n",
              "    }\n",
              "\n",
              "    .colab-df-convert {\n",
              "      background-color: #E8F0FE;\n",
              "      border: none;\n",
              "      border-radius: 50%;\n",
              "      cursor: pointer;\n",
              "      display: none;\n",
              "      fill: #1967D2;\n",
              "      height: 32px;\n",
              "      padding: 0 0 0 0;\n",
              "      width: 32px;\n",
              "    }\n",
              "\n",
              "    .colab-df-convert:hover {\n",
              "      background-color: #E2EBFA;\n",
              "      box-shadow: 0px 1px 2px rgba(60, 64, 67, 0.3), 0px 1px 3px 1px rgba(60, 64, 67, 0.15);\n",
              "      fill: #174EA6;\n",
              "    }\n",
              "\n",
              "    [theme=dark] .colab-df-convert {\n",
              "      background-color: #3B4455;\n",
              "      fill: #D2E3FC;\n",
              "    }\n",
              "\n",
              "    [theme=dark] .colab-df-convert:hover {\n",
              "      background-color: #434B5C;\n",
              "      box-shadow: 0px 1px 3px 1px rgba(0, 0, 0, 0.15);\n",
              "      filter: drop-shadow(0px 1px 2px rgba(0, 0, 0, 0.3));\n",
              "      fill: #FFFFFF;\n",
              "    }\n",
              "  </style>\n",
              "\n",
              "      <script>\n",
              "        const buttonEl =\n",
              "          document.querySelector('#df-61f8176d-d079-4b36-b83f-3ef6533a7dbb button.colab-df-convert');\n",
              "        buttonEl.style.display =\n",
              "          google.colab.kernel.accessAllowed ? 'block' : 'none';\n",
              "\n",
              "        async function convertToInteractive(key) {\n",
              "          const element = document.querySelector('#df-61f8176d-d079-4b36-b83f-3ef6533a7dbb');\n",
              "          const dataTable =\n",
              "            await google.colab.kernel.invokeFunction('convertToInteractive',\n",
              "                                                     [key], {});\n",
              "          if (!dataTable) return;\n",
              "\n",
              "          const docLinkHtml = 'Like what you see? Visit the ' +\n",
              "            '<a target=\"_blank\" href=https://colab.research.google.com/notebooks/data_table.ipynb>data table notebook</a>'\n",
              "            + ' to learn more about interactive tables.';\n",
              "          element.innerHTML = '';\n",
              "          dataTable['output_type'] = 'display_data';\n",
              "          await google.colab.output.renderOutput(dataTable, element);\n",
              "          const docLink = document.createElement('div');\n",
              "          docLink.innerHTML = docLinkHtml;\n",
              "          element.appendChild(docLink);\n",
              "        }\n",
              "      </script>\n",
              "    </div>\n",
              "  </div>\n",
              "  "
            ]
          },
          "metadata": {},
          "execution_count": 56
        }
      ],
      "source": [
        "truth_pd[2] "
      ]
    },
    {
      "cell_type": "code",
      "execution_count": 57,
      "metadata": {
        "colab": {
          "base_uri": "https://localhost:8080/",
          "height": 81
        },
        "id": "WFbRwGhdR0o5",
        "outputId": "dd87e773-2dd4-4bad-95e3-6d59c2771d23"
      },
      "outputs": [
        {
          "output_type": "execute_result",
          "data": {
            "text/plain": [
              "      xcenter     ycenter       width       height confidence  class  \\\n",
              "0  683.644535  990.877959  368.239071  1136.740122        n/a      6   \n",
              "\n",
              "  class_name  image_id  \n",
              "0        Can         6  "
            ],
            "text/html": [
              "\n",
              "  <div id=\"df-84359db0-390c-49a9-a1cf-99535049fc22\">\n",
              "    <div class=\"colab-df-container\">\n",
              "      <div>\n",
              "<style scoped>\n",
              "    .dataframe tbody tr th:only-of-type {\n",
              "        vertical-align: middle;\n",
              "    }\n",
              "\n",
              "    .dataframe tbody tr th {\n",
              "        vertical-align: top;\n",
              "    }\n",
              "\n",
              "    .dataframe thead th {\n",
              "        text-align: right;\n",
              "    }\n",
              "</style>\n",
              "<table border=\"1\" class=\"dataframe\">\n",
              "  <thead>\n",
              "    <tr style=\"text-align: right;\">\n",
              "      <th></th>\n",
              "      <th>xcenter</th>\n",
              "      <th>ycenter</th>\n",
              "      <th>width</th>\n",
              "      <th>height</th>\n",
              "      <th>confidence</th>\n",
              "      <th>class</th>\n",
              "      <th>class_name</th>\n",
              "      <th>image_id</th>\n",
              "    </tr>\n",
              "  </thead>\n",
              "  <tbody>\n",
              "    <tr>\n",
              "      <th>0</th>\n",
              "      <td>683.644535</td>\n",
              "      <td>990.877959</td>\n",
              "      <td>368.239071</td>\n",
              "      <td>1136.740122</td>\n",
              "      <td>n/a</td>\n",
              "      <td>6</td>\n",
              "      <td>Can</td>\n",
              "      <td>6</td>\n",
              "    </tr>\n",
              "  </tbody>\n",
              "</table>\n",
              "</div>\n",
              "      <button class=\"colab-df-convert\" onclick=\"convertToInteractive('df-84359db0-390c-49a9-a1cf-99535049fc22')\"\n",
              "              title=\"Convert this dataframe to an interactive table.\"\n",
              "              style=\"display:none;\">\n",
              "        \n",
              "  <svg xmlns=\"http://www.w3.org/2000/svg\" height=\"24px\"viewBox=\"0 0 24 24\"\n",
              "       width=\"24px\">\n",
              "    <path d=\"M0 0h24v24H0V0z\" fill=\"none\"/>\n",
              "    <path d=\"M18.56 5.44l.94 2.06.94-2.06 2.06-.94-2.06-.94-.94-2.06-.94 2.06-2.06.94zm-11 1L8.5 8.5l.94-2.06 2.06-.94-2.06-.94L8.5 2.5l-.94 2.06-2.06.94zm10 10l.94 2.06.94-2.06 2.06-.94-2.06-.94-.94-2.06-.94 2.06-2.06.94z\"/><path d=\"M17.41 7.96l-1.37-1.37c-.4-.4-.92-.59-1.43-.59-.52 0-1.04.2-1.43.59L10.3 9.45l-7.72 7.72c-.78.78-.78 2.05 0 2.83L4 21.41c.39.39.9.59 1.41.59.51 0 1.02-.2 1.41-.59l7.78-7.78 2.81-2.81c.8-.78.8-2.07 0-2.86zM5.41 20L4 18.59l7.72-7.72 1.47 1.35L5.41 20z\"/>\n",
              "  </svg>\n",
              "      </button>\n",
              "      \n",
              "  <style>\n",
              "    .colab-df-container {\n",
              "      display:flex;\n",
              "      flex-wrap:wrap;\n",
              "      gap: 12px;\n",
              "    }\n",
              "\n",
              "    .colab-df-convert {\n",
              "      background-color: #E8F0FE;\n",
              "      border: none;\n",
              "      border-radius: 50%;\n",
              "      cursor: pointer;\n",
              "      display: none;\n",
              "      fill: #1967D2;\n",
              "      height: 32px;\n",
              "      padding: 0 0 0 0;\n",
              "      width: 32px;\n",
              "    }\n",
              "\n",
              "    .colab-df-convert:hover {\n",
              "      background-color: #E2EBFA;\n",
              "      box-shadow: 0px 1px 2px rgba(60, 64, 67, 0.3), 0px 1px 3px 1px rgba(60, 64, 67, 0.15);\n",
              "      fill: #174EA6;\n",
              "    }\n",
              "\n",
              "    [theme=dark] .colab-df-convert {\n",
              "      background-color: #3B4455;\n",
              "      fill: #D2E3FC;\n",
              "    }\n",
              "\n",
              "    [theme=dark] .colab-df-convert:hover {\n",
              "      background-color: #434B5C;\n",
              "      box-shadow: 0px 1px 3px 1px rgba(0, 0, 0, 0.15);\n",
              "      filter: drop-shadow(0px 1px 2px rgba(0, 0, 0, 0.3));\n",
              "      fill: #FFFFFF;\n",
              "    }\n",
              "  </style>\n",
              "\n",
              "      <script>\n",
              "        const buttonEl =\n",
              "          document.querySelector('#df-84359db0-390c-49a9-a1cf-99535049fc22 button.colab-df-convert');\n",
              "        buttonEl.style.display =\n",
              "          google.colab.kernel.accessAllowed ? 'block' : 'none';\n",
              "\n",
              "        async function convertToInteractive(key) {\n",
              "          const element = document.querySelector('#df-84359db0-390c-49a9-a1cf-99535049fc22');\n",
              "          const dataTable =\n",
              "            await google.colab.kernel.invokeFunction('convertToInteractive',\n",
              "                                                     [key], {});\n",
              "          if (!dataTable) return;\n",
              "\n",
              "          const docLinkHtml = 'Like what you see? Visit the ' +\n",
              "            '<a target=\"_blank\" href=https://colab.research.google.com/notebooks/data_table.ipynb>data table notebook</a>'\n",
              "            + ' to learn more about interactive tables.';\n",
              "          element.innerHTML = '';\n",
              "          dataTable['output_type'] = 'display_data';\n",
              "          await google.colab.output.renderOutput(dataTable, element);\n",
              "          const docLink = document.createElement('div');\n",
              "          docLink.innerHTML = docLinkHtml;\n",
              "          element.appendChild(docLink);\n",
              "        }\n",
              "      </script>\n",
              "    </div>\n",
              "  </div>\n",
              "  "
            ]
          },
          "metadata": {},
          "execution_count": 57
        }
      ],
      "source": [
        "pred_pd[2]"
      ]
    },
    {
      "cell_type": "markdown",
      "metadata": {
        "id": "TyiyfCEAODQI"
      },
      "source": [
        "# 2. Accuracy evaluation\n",
        "\n",
        "Usually, `Object Detection` tasks are measured by mAP, which is also the default metrics YoloV5 uses. You can also check Yolo's Precision and Recall metrics. \n",
        "\n",
        "However, if an `accuracy` metric is specifically needed, the following codes will do it.\n",
        "\n",
        "For each object with a truth bounding box in each image, if there is a prediction bounding box that has an IOU > threshold with that truth bounding box, it is counted as `detected`.\n",
        "\n",
        "For overall model `accuracy`, we count total number of `detected` of all images over total number of `predictions` of all images."
      ]
    },
    {
      "cell_type": "markdown",
      "metadata": {
        "id": "Ff6hBppj1SjL"
      },
      "source": [
        "**Definition of `Accuracy`:**\n",
        "\n",
        "$$\\text{Accuracy} = \\frac{\\text{Number of correct predictions}}{\\text{Total number of predictions}}$$\n",
        "\n",
        "A comparison of `Accuracy, Precision, Recall`:\n",
        "$$\n",
        "\\text{Accuracy} = \\frac{TP+TN}{TP+TN+FP+FN}\n",
        "$$\n",
        "\n",
        "$$\\text{Precision} = \\frac{TP}{TP+FP}\n",
        "$$\n",
        "\n",
        "$$\\text{Recall} = \\frac{TP}{TP+FN}\n",
        "$$\n",
        "CC: https://developers.google.com/machine-learning/crash-course/classification/accuracy"
      ]
    },
    {
      "cell_type": "code",
      "execution_count": 58,
      "metadata": {
        "id": "LkQgO9T5OHzs"
      },
      "outputs": [],
      "source": [
        "def bbox_iou(box1, box2, eps=1e-7):\n",
        "  \"\"\"\n",
        "  CITATION: adapted from YOLOV5 utils, author, cr: ultralytics\n",
        "  Returns Intersection over Union (IoU) of box1(1,4) to box2(n,4)\n",
        "  Get the coordinates of bounding boxes, transform from xywh to xyxy\n",
        "  \"\"\"\n",
        "  (x1, y1, w1, h1), (x2, y2, w2, h2) = box1.chunk(4, 1), box2.chunk(4, 1)\n",
        "  w1_, h1_, w2_, h2_ = w1 / 2, h1 / 2, w2 / 2, h2 / 2\n",
        "  b1_x1, b1_x2, b1_y1, b1_y2 = x1 - w1_, x1 + w1_, y1 - h1_, y1 + h1_\n",
        "  b2_x1, b2_x2, b2_y1, b2_y2 = x2 - w2_, x2 + w2_, y2 - h2_, y2 + h2_\n",
        "\n",
        "  inter = (torch.min(b1_x2, b2_x2) - torch.max(b1_x1, b2_x1)).clamp(0) * \\\n",
        "          (torch.min(b1_y2, b2_y2) - torch.max(b1_y1, b2_y1)).clamp(0)\n",
        "  union = w1 * h1 + w2 * h2 - inter + eps\n",
        "  return inter / union  # return IoU\n",
        "  \n",
        "def each_pic(pred_df,truth_df,iou_th,must_class):\n",
        "  \"\"\"\n",
        "  returns number of objects (truth) and number of detection\n",
        "  e.g. if there are 5 pieces of trash in an image and we predicted 2, it will return 5,2\n",
        "  \"\"\"\n",
        "  pred_df_ = pred_df.assign(matched=[0]*pred_df.shape[0])\n",
        "  nr_preds = pred_df.shape[0]\n",
        "  nr_dets = 0\n",
        "  for i in truth_df.iterrows():\n",
        "    tbox_tensor = torch.tensor([i[1].tolist()[:4]])\n",
        "    tlabel = i[1].tolist()[5]\n",
        "    \n",
        "    row_counter=0\n",
        "    for j in pred_df_.iterrows():\n",
        "      pbox_tensor = torch.tensor([j[1].tolist()[:4]])\n",
        "      plabel = j[1].tolist()[5]\n",
        "      matched = j[1].tolist()[-1]\n",
        "      if must_class==True: # if the detection has to assign a correct class name. \n",
        "        if bbox_iou(tbox_tensor,pbox_tensor)>iou_th and matched==0 and tlabel==plabel:\n",
        "          nr_dets+=1\n",
        "          pred_df_.iat[row_counter,-1]=1 # mark matched bbox, so one prediction bbox wont be counted as \"detected\" for two different objects\n",
        "          continue\n",
        "      else: \n",
        "        if bbox_iou(tbox_tensor,pbox_tensor)>iou_th and matched==0:\n",
        "          nr_dets+=1\n",
        "          pred_df_.iat[row_counter,-1]=1\n",
        "          continue\n",
        "      row_counter+=1\n",
        "  return nr_preds,nr_dets\n",
        "\n",
        "def get_accuracy(pred,truth,iou_th=0.5,must_class=False):\n",
        "  \"\"\"\n",
        "  pred: prediction list of dataframe\n",
        "  truth: truth list of dataframe\n",
        "  iou_th IOU threshold you define suitable\n",
        "  must_class: controls whether the category need to be predicted correctly\n",
        "              when set to false, only consider whether predicted bbox bounded objects correctly, \n",
        "              without considering if the correct class is identified\n",
        "  \"\"\"\n",
        "  preds,dets=0,0\n",
        "  for i in tqdm(range(len(truth))):\n",
        "    p,d=each_pic(pred_pd[i],truth_pd[i],iou_th,must_class)\n",
        "    preds+=p\n",
        "    dets+=d\n",
        "  return np.round(dets/preds,6)"
      ]
    },
    {
      "cell_type": "markdown",
      "metadata": {
        "id": "t1nk9VlW3KZT"
      },
      "source": [
        "## 2.1 Get Accuracy"
      ]
    },
    {
      "cell_type": "code",
      "execution_count": 59,
      "metadata": {
        "colab": {
          "base_uri": "https://localhost:8080/"
        },
        "id": "p8E9EsAMOH1d",
        "outputId": "4ce2bbfd-6abe-4d77-e28f-c0102d5749e5"
      },
      "outputs": [
        {
          "output_type": "stream",
          "name": "stderr",
          "text": [
            "100%|██████████| 680/680 [00:01<00:00, 398.48it/s]"
          ]
        },
        {
          "output_type": "stream",
          "name": "stdout",
          "text": [
            "\n",
            "Our trained model has an accuracy of: 30.573800000000002%\n"
          ]
        },
        {
          "output_type": "stream",
          "name": "stderr",
          "text": [
            "\n"
          ]
        }
      ],
      "source": [
        "accuracy = get_accuracy(pred_pd,truth_pd,iou_th=0.5,must_class=True)\n",
        "print('\\nOur trained model has an accuracy of: '+str(accuracy*100)+'%')"
      ]
    },
    {
      "cell_type": "markdown",
      "metadata": {
        "id": "fZWitSXb3EHh"
      },
      "source": [
        "**Box-Accuracy**\n",
        "\n",
        "Some detection tasks care only about \"having a bounding box over the target object,\" they do not care about if the model then label the object with a correct class. If you want such accuracy, it can be obtained by setting `must_class` to `False`. \n",
        "\n",
        "Below is an example:"
      ]
    },
    {
      "cell_type": "code",
      "execution_count": 60,
      "metadata": {
        "colab": {
          "base_uri": "https://localhost:8080/"
        },
        "id": "28BGyq9g3Bwc",
        "outputId": "2d94b426-7927-4ad7-e19b-5d47afca69b8"
      },
      "outputs": [
        {
          "output_type": "stream",
          "name": "stderr",
          "text": [
            "100%|██████████| 680/680 [00:01<00:00, 420.70it/s]"
          ]
        },
        {
          "output_type": "stream",
          "name": "stdout",
          "text": [
            "\n",
            "Our trained model has an accuracy of: 57.9508%\n"
          ]
        },
        {
          "output_type": "stream",
          "name": "stderr",
          "text": [
            "\n"
          ]
        }
      ],
      "source": [
        "accuracy = get_accuracy(pred_pd,truth_pd,iou_th=0.5,must_class=False)\n",
        "print('\\nOur trained model has an accuracy of: '+str(accuracy*100)+'%')"
      ]
    },
    {
      "cell_type": "code",
      "execution_count": 60,
      "metadata": {
        "id": "ME1EbHlgOc4F"
      },
      "outputs": [],
      "source": []
    },
    {
      "cell_type": "code",
      "execution_count": 61,
      "metadata": {
        "id": "5iPP1vh-Oc6N"
      },
      "outputs": [],
      "source": [
        "# from google.colab import runtime\n",
        "# runtime.unassign()"
      ]
    }
  ],
  "metadata": {
    "colab": {
      "provenance": []
    },
    "gpuClass": "standard",
    "kernelspec": {
      "display_name": "Python 3 (ipykernel)",
      "language": "python",
      "name": "python3"
    },
    "language_info": {
      "codemirror_mode": {
        "name": "ipython",
        "version": 3
      },
      "file_extension": ".py",
      "mimetype": "text/x-python",
      "name": "python",
      "nbconvert_exporter": "python",
      "pygments_lexer": "ipython3",
      "version": "3.9.12"
    },
    "accelerator": "GPU"
  },
  "nbformat": 4,
  "nbformat_minor": 0
}