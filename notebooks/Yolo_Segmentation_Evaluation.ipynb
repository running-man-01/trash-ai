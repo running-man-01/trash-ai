{
  "cells": [
    {
      "cell_type": "markdown",
      "metadata": {
        "id": "qN8V989HzHDT"
      },
      "source": [
        "# This notebook: Build evaluation method\n",
        "* Aim at >.90 accuracy\n",
        "\n",
        "Currently it is tested with yolov5 prediction results. But it is compatible for all prediction outputs as long as they are in the form of `.pandas().xywh`. (see section `1.3` for examples)\n",
        "\n",
        "Using `Google Colab` to view this notebook is highly recommended."
      ]
    },
    {
      "cell_type": "markdown",
      "metadata": {
        "id": "mS4ry1DRFSes"
      },
      "source": [
        "### Questions:\n",
        "* Want the **big TACO**? i.e. the **unofficial TACO** that contains 5,000+ images. It's much larger a dataset, but the label quality of the big TACO might be poor. \n",
        "\n",
        "* **Reduce target classes**? There are 60 categories and 28 super-categories. Currently we predict 60 classes, which might be too many considering that we only have less than 1500 training images. Should we use the 28 super-categories as classes to be predicted? Or one step further, 5~10 classes of plastic, metal, glass, etc. based on the material of trash objects.\n",
        "\n",
        "* Better **Train/Test split**? Currently I do a non-stratified 1300/100/100 split for train/val/test. This is not the best choice. Classes(categories)'s distribution in training and testing set will be different which might be a problem. Inputs are greatly welcomed!"
      ]
    },
    {
      "cell_type": "code",
      "execution_count": 1,
      "metadata": {
        "id": "R_Dc3-3xaTwr"
      },
      "outputs": [],
      "source": [
        "mount_drive = True # set to true only if you have weights and images in your own google drive\n",
        "low_memory = True # True if your instance has low memory\n",
        "\n",
        "reduced = True #True if using reduced classes (28 categories)"
      ]
    },
    {
      "cell_type": "code",
      "execution_count": 2,
      "metadata": {
        "colab": {
          "base_uri": "https://localhost:8080/"
        },
        "id": "0D7J191IYwp8",
        "outputId": "8b053a4c-b299-446c-9412-8d33143ffd2c"
      },
      "outputs": [
        {
          "output_type": "stream",
          "name": "stdout",
          "text": [
            "Mon Dec 12 20:31:08 2022       \n",
            "+-----------------------------------------------------------------------------+\n",
            "| NVIDIA-SMI 460.32.03    Driver Version: 460.32.03    CUDA Version: 11.2     |\n",
            "|-------------------------------+----------------------+----------------------+\n",
            "| GPU  Name        Persistence-M| Bus-Id        Disp.A | Volatile Uncorr. ECC |\n",
            "| Fan  Temp  Perf  Pwr:Usage/Cap|         Memory-Usage | GPU-Util  Compute M. |\n",
            "|                               |                      |               MIG M. |\n",
            "|===============================+======================+======================|\n",
            "|   0  Tesla T4            Off  | 00000000:00:04.0 Off |                    0 |\n",
            "| N/A   40C    P0    25W /  70W |      0MiB / 15109MiB |      0%      Default |\n",
            "|                               |                      |                  N/A |\n",
            "+-------------------------------+----------------------+----------------------+\n",
            "                                                                               \n",
            "+-----------------------------------------------------------------------------+\n",
            "| Processes:                                                                  |\n",
            "|  GPU   GI   CI        PID   Type   Process name                  GPU Memory |\n",
            "|        ID   ID                                                   Usage      |\n",
            "|=============================================================================|\n",
            "|  No running processes found                                                 |\n",
            "+-----------------------------------------------------------------------------+\n"
          ]
        }
      ],
      "source": [
        "!nvidia-smi"
      ]
    },
    {
      "cell_type": "markdown",
      "metadata": {
        "id": "_9jgRJYlL_-H"
      },
      "source": [
        "# 0. Prep works\n",
        "- install yolov5, download and partition datasets"
      ]
    },
    {
      "cell_type": "code",
      "execution_count": 2,
      "metadata": {
        "id": "ucAYkRiCIxFW"
      },
      "outputs": [],
      "source": []
    },
    {
      "cell_type": "code",
      "execution_count": 3,
      "metadata": {
        "id": "cJDeErmxIuY8"
      },
      "outputs": [],
      "source": [
        "%%bash\n",
        "cd /content/\n",
        "rm -rf /content/*\n",
        "#find . \\! -name 'rotated2.zip' -delete\n",
        "\n",
        "# sudo fallocate -l 64G /swapfile\n",
        "# sudo chmod 600 /swapfile\n",
        "# sudo mkswap /swapfile\n",
        "# sudo swapon /swapfile\n",
        "# free -h  # check memory"
      ]
    },
    {
      "cell_type": "code",
      "execution_count": 4,
      "metadata": {
        "id": "2TTOdqkAk_Ad"
      },
      "outputs": [],
      "source": [
        "%%capture\n",
        "!git clone https://github.com/ultralytics/yolov5 \n",
        "%cd yolov5\n",
        "!pip install -r requirements.txt #wandb\n",
        "%cd .."
      ]
    },
    {
      "cell_type": "code",
      "execution_count": 5,
      "metadata": {
        "id": "FBHHieZsCbGS"
      },
      "outputs": [],
      "source": [
        "%%capture\n",
        "!wget https://raw.githubusercontent.com/scikit-multilearn/scikit-multilearn/master/skmultilearn/model_selection/iterative_stratification.py\n",
        "from iterative_stratification import *\n",
        "from collections import Counter\n",
        "\n",
        "from PIL import Image, ExifTags\n",
        "from pycocotools.coco import COCO\n",
        "from matplotlib.patches import Polygon, Rectangle\n",
        "from matplotlib.collections import PatchCollection\n",
        "import colorsys\n",
        "import random\n",
        "import pylab\n",
        "\n",
        "import json\n",
        "import numpy as np\n",
        "import pandas as pd\n",
        "import matplotlib.pyplot as plt\n",
        "import seaborn as sns; sns.set()\n",
        "\n",
        "import shutil\n",
        "import os\n",
        "import re\n",
        "\n",
        "import torch\n",
        "from torch.utils.data import Dataset, DataLoader\n",
        "from torchvision import transforms, utils\n",
        "\n",
        "from functools import partial\n",
        "from tqdm import tqdm\n",
        "tqdm = partial(tqdm, position=0, leave=True)"
      ]
    },
    {
      "cell_type": "code",
      "execution_count": 6,
      "metadata": {
        "colab": {
          "base_uri": "https://localhost:8080/"
        },
        "id": "M0nSxY0wdrr2",
        "outputId": "44370105-4eee-4e50-a33e-634904a0efbe"
      },
      "outputs": [
        {
          "output_type": "stream",
          "name": "stdout",
          "text": [
            "Mounted at /gdrive\n"
          ]
        }
      ],
      "source": [
        "if not mount_drive:\n",
        "  # gdown a gdrive file too frequently triggers google's control and makes the file un-gdown-able\n",
        "  # You can download them manually by adding this prefix: https://drive.google.com/file/d/ to the below codes after !gdown\n",
        "\n",
        "  !gdown 11ewZSBLq0LHjnwYVD1117RLimqjs8cNd # best weights with yolo-seg\n",
        "  !gdown 1X3O2v3GIPveq3ylWF6o1qHI5uzbN1vWA # organized TACO images (TACO itself, 1500 images)\n",
        "\n",
        "if mount_drive:\n",
        "  from google.colab import drive\n",
        "  drive.mount('/gdrive')\n",
        "  %cp /gdrive/MyDrive/yolo_seg_TACO/exp/weights/best.pt /content/weights.pt    \n",
        "\n",
        "  if not os.path.isfile('/content/rotated2.zip'):\n",
        "    %cp /gdrive/MyDrive/rotated2_og.zip /content/rotated2.zip #get images\n",
        "\n",
        "    \n"
      ]
    },
    {
      "cell_type": "code",
      "execution_count": 7,
      "metadata": {
        "id": "Pfvddv2pS_ZX"
      },
      "outputs": [],
      "source": [
        "!unzip -qq /content/rotated2.zip \n",
        "%mv /content/content/* /content/ && mv ./yoloTACO ./TACO\n"
      ]
    },
    {
      "cell_type": "code",
      "execution_count": 8,
      "metadata": {
        "id": "wrpSIe5OWTF1"
      },
      "outputs": [],
      "source": [
        "%%capture\n",
        "!wget https://raw.githubusercontent.com/pedropro/TACO/master/data/annotations.json\n",
        "!wget https://raw.githubusercontent.com/pedropro/TACO/master/data/annotations_unofficial.json\n",
        "\n",
        "base_anno = './annotations.json'\n",
        "unof_anno =  './annotations_unofficial.json'\n",
        "\n",
        "base_coco_anno = COCO(annotation_file=base_anno)\n",
        "unof_coco_anno = COCO(annotation_file=unof_anno)\n",
        "\n",
        "with open(base_anno, 'r') as f:\n",
        "    base_anno = json.loads(f.read())\n",
        "\n",
        "with open(unof_anno, 'r') as f:\n",
        "    unof_anno = json.loads(f.read())   \n",
        "\n",
        "# get the \"id to superid\" relationship\n",
        "supercat_cat_id = [[i['supercategory'],i['name'],i['id']] for i in base_anno['categories']]\n",
        "id_supercat = {i[2]:i[0] for i in supercat_cat_id}\n",
        "super_id = {j:i for i,j in enumerate(list(dict.fromkeys([(j) for i,j in enumerate([i['supercategory'] for i in base_anno['categories']])])))}\n",
        "id_superid = {i:super_id[id_supercat[i]] for i in range(60)}\n",
        "\n",
        "anno_path = './annotations.json'\n",
        "annos = COCO(annotation_file=anno_path)\n",
        "with open(anno_path, 'r') as f:\n",
        "    annos_json = json.loads(f.read())\n",
        "no_to_clname = {i:j for i,j in enumerate([i['name'] for i in annos_json['categories']])}"
      ]
    },
    {
      "cell_type": "code",
      "source": [
        "a = dict.fromkeys([i[0] for i in supercat_cat_id])\n",
        "number_superid = {i:j for i,j in enumerate(a.keys())}"
      ],
      "metadata": {
        "id": "57KY-T7JuRwN"
      },
      "execution_count": 9,
      "outputs": []
    },
    {
      "cell_type": "code",
      "execution_count": 40,
      "metadata": {
        "id": "nbwKD15fKpfa",
        "colab": {
          "base_uri": "https://localhost:8080/"
        },
        "outputId": "224a0c81-a753-403a-b841-5cf7d5a2abb2"
      },
      "outputs": [
        {
          "output_type": "stream",
          "name": "stderr",
          "text": [
            "100%|██████████| 1500/1500 [00:00<00:00, 10671.90it/s]\n"
          ]
        }
      ],
      "source": [
        "import copy\n",
        "dst = \"./TACO\"\n",
        "%rm -rf ./TACO/labels #reset labels\n",
        "!mkdir ./TACO/labels\n",
        "base_imgs = base_anno['images']\n",
        "\n",
        "counter = 0\n",
        "bbox_thold=50*50\n",
        "for img in tqdm(base_imgs):\n",
        "  height = img['height']\n",
        "  width = img['width']\n",
        "\n",
        "  # reorganize images\n",
        "  img_id = img['id']\n",
        "  if counter>=1500: img_id+=1500\n",
        "\n",
        "  # reorganize annotations\n",
        "  img_id_ = img['id']\n",
        "  if counter<1500: \n",
        "    annotation_ids = base_coco_anno.getAnnIds(img_id_)\n",
        "  else: \n",
        "    annotation_ids = unof_coco_anno.getAnnIds(img_id_)\n",
        "\n",
        "  if len(annotation_ids) == 0:\n",
        "    continue\n",
        "\n",
        "  with open(dst+'/labels/'+str(img_id)+'.txt', mode='w') as fp:\n",
        "    if counter<1500: annotations = base_coco_anno.loadAnns(annotation_ids)\n",
        "    else: annotations = unof_coco_anno.loadAnns(annotation_ids)\n",
        "    lines = ''\n",
        "    for annotation in annotations:\n",
        "      label = copy.copy(annotation['category_id'])\n",
        "      if reduced: label = id_superid[label]\n",
        "      box = copy.copy(annotation['bbox'])\n",
        "      # some annotations have basically no width / height (extremely small), skip them\n",
        "      if box[2] * box[3] < bbox_thold:\n",
        "        # uncomment below line to see which images have bbox skipped\n",
        "        #print('bbox too small, skipped. skipped bbox is in image ID:'+ str(img_id))\n",
        "        continue\n",
        "      # top_x,top_y,width,height ----> cen_x,cen_y,width,height\n",
        "      # standardize to 0-1\n",
        "      box[0] = round((box[0] + box[2] / 2) / width, 6)\n",
        "      box[1] = round((box[1] + box[3] / 2) / height, 6)\n",
        "      box[2] = round(box[2] / width, 6)\n",
        "      box[3] = round(box[3] / height, 6)\n",
        "      # line: super_id x_center y_center width height\n",
        "      lines += str(label)\n",
        "      for i in box:\n",
        "        lines += ' ' + str(i)\n",
        "      lines = lines+ '\\n'\n",
        "    fp.writelines(lines)\n",
        "\n",
        "  counter+=1"
      ]
    },
    {
      "cell_type": "code",
      "execution_count": 41,
      "metadata": {
        "colab": {
          "base_uri": "https://localhost:8080/"
        },
        "id": "CPFCzX31IGBq",
        "outputId": "c31062d6-5add-42a9-9393-04592a3aa5d0"
      },
      "outputs": [
        {
          "output_type": "stream",
          "name": "stdout",
          "text": [
            "Number of all images:\n",
            "1500\n"
          ]
        },
        {
          "output_type": "stream",
          "name": "stderr",
          "text": [
            "100%|██████████| 1500/1500 [00:03<00:00, 498.88it/s]\n"
          ]
        }
      ],
      "source": [
        "nr_imgs=None\n",
        "for root, dirnames, filenames in os.walk('./TACO/labels/'):\n",
        "  nr_imgs = len(filenames)\n",
        "  break\n",
        "print('Number of all images:\\n'+str(nr_imgs))\n",
        "\n",
        "if reduced: \n",
        "  nr_class = 28\n",
        "else: nr_class = 60\n",
        "\n",
        "xy = {}\n",
        "for i in tqdm(range(nr_imgs)):\n",
        "  try: \n",
        "    X = open('./TACO/labels/'+str(i)+'.txt','r')\n",
        "    lines = X.readlines()\n",
        "    classes = [int(line.split()[0]) for line in lines]\n",
        "    x = pd.DataFrame([Counter(classes)],columns=[*range(nr_class)]).fillna(0).astype(int).iloc[[0]].squeeze().tolist()\n",
        "    y=i\n",
        "    xy[y]=x\n",
        "\n",
        "  except: \n",
        "    print('\\nimage id number '+str(i)+' skipped due to no label found')\n",
        "    pass\n",
        "X = pd.DataFrame.from_dict(xy, orient='index')\n",
        "\n",
        "y = xy.keys()\n",
        "one_hot_y = pd.get_dummies(y)\n",
        "\n",
        "## train test split\n",
        "'''\n",
        "train: images/train\n",
        "val: images/val\n",
        "test: images/test\n",
        "'''\n",
        "\n",
        "np.random.seed(123) # sk-multilearn is based on sk, sk uses np random state. \n",
        "                  # so, setting np random seed will clamp the results of iterative_train_test_split\n",
        "\n",
        "X_train, y_train, X_temp, y_temp = iterative_train_test_split(X.values, one_hot_y.values, test_size = 0.5)\n",
        "X_train1, y_train1, X_val, y_val = iterative_train_test_split(X_temp, y_temp, test_size = 0.5)\n",
        "X_val, y_val,X_test,y_test = iterative_train_test_split(X_val, y_val, test_size = 0.5)\n",
        "\n",
        "# ISSUE: in this environment, any test_size!= 0.5 results in nothing in testing set. \n",
        "# therefore train/val/test split is roughly .75, .125, .125\n",
        "\n",
        "y_train = np.vstack((y_train,y_train1))\n",
        "train_ids,val_ids,test_ids = pd.DataFrame(y_train,columns = y).idxmax(axis=1).tolist(),\\\n",
        "                            pd.DataFrame(y_val,columns = y).idxmax(axis=1).tolist(),\\\n",
        "                            pd.DataFrame(y_test,columns = y).idxmax(axis=1).tolist()\n"
      ]
    },
    {
      "cell_type": "code",
      "execution_count": 42,
      "metadata": {
        "id": "g_66okFNgHUF",
        "colab": {
          "base_uri": "https://localhost:8080/",
          "height": 579
        },
        "outputId": "1b10abb7-3255-43bc-8d9b-268b3072e161"
      },
      "outputs": [
        {
          "output_type": "display_data",
          "data": {
            "text/plain": [
              "<Figure size 960x640 with 1 Axes>"
            ],
            "image/png": "[encoded data removed]"
          },
          "metadata": {}
        }
      ],
      "source": [
        "# Visual check of train-test split\n",
        "\n",
        "def list_add(list1, list2): return [sum(x) for x in zip(list1, list2)]\n",
        "def vis(img_id_list):\n",
        "  vis=[0]*nr_class\n",
        "  for i in img_id_list:\n",
        "    X = open('./TACO/labels/'+str(i)+'.txt','r')\n",
        "    lines = X.readlines()\n",
        "    classes = [int(line.split()[0]) for line in lines]\n",
        "    x_ = pd.DataFrame([Counter(classes)],columns=[*range(nr_class)]).fillna(0).astype(int).iloc[[0]].squeeze().tolist()\n",
        "    vis=list_add(vis,x_)\n",
        "  return vis\n",
        "\n",
        "from matplotlib.pyplot import figure\n",
        "figure(figsize=(12, 8), dpi=80)\n",
        "\n",
        "plt.bar([*range(nr_class)],vis(train_ids), width = 1, label = 'Train')\n",
        "plt.bar([*range(nr_class)],vis(val_ids), width = 1, label = 'Val',alpha = 0.5)\n",
        "plt.bar([*range(nr_class)],vis(test_ids), width = 1, label = 'Test',alpha = 0.5)\n",
        "\n",
        "plt.xticks([*range(nr_class)],rotation = 75)\n",
        "plt.xlabel(\"Class_id\")\n",
        "plt.ylabel(\"Number of occurrence\")\n",
        "plt.title(\"Class distribution in Train/Val/Test sets\")\n",
        "plt.legend()\n",
        "plt.show()"
      ]
    },
    {
      "cell_type": "code",
      "execution_count": 43,
      "metadata": {
        "id": "kwCWClsrSD4z"
      },
      "outputs": [],
      "source": [
        "%%capture\n",
        "\n",
        "def move_helper(ids, desti):\n",
        "  for id in ids:\n",
        "    img_name = os.path.join( './TACO/images', str(id)+'.jpg' )\n",
        "    lbl_name = os.path.join( './TACO/labels', str(id)+'.txt' )\n",
        "    print(img_name)\n",
        "    if os.path.isfile(img_name):\n",
        "        shutil.copy( img_name, './TACO/images/'+desti)\n",
        "        shutil.copy( lbl_name, './TACO/labels/'+desti)\n",
        "    else :\n",
        "        print('file does not exist', img_name)\n",
        "\n",
        "!mkdir TACO/images/{train,val,test}\n",
        "!mkdir TACO/labels/{train,val,test}\n",
        "\n",
        "move_helper(test_ids,'test')\n",
        "move_helper(train_ids,'train')\n",
        "move_helper(val_ids,'val')\n"
      ]
    },
    {
      "cell_type": "code",
      "execution_count": 44,
      "metadata": {
        "id": "gHyjxWAW7DF0"
      },
      "outputs": [],
      "source": [
        "# %%bash\n",
        "# mkdir ./datasets\n",
        "# mv yoloTACO ./datasets/"
      ]
    },
    {
      "cell_type": "code",
      "execution_count": 44,
      "metadata": {
        "id": "S96FWSElHY9d"
      },
      "outputs": [],
      "source": []
    },
    {
      "cell_type": "code",
      "execution_count": 45,
      "metadata": {
        "id": "evH7jgs5Dnj7"
      },
      "outputs": [],
      "source": [
        "#@title yml\n",
        "\n",
        "if reduced == True:\n",
        "\n",
        "  with open('/content/yolov5/data/TACO.yaml', mode='w') as fp:\n",
        "    lines = '''path: ../TACO  # dataset root dir\n",
        "train: images/train  # train images \n",
        "val: images/val  # val images \n",
        "test: images/test # test images (optional)\n",
        "\n",
        "# Classes\n",
        "names:\n",
        "  0: Aluminium foil\n",
        "  1: Battery\n",
        "  2: Blister pack\n",
        "  3: Bottle\n",
        "  4: Bottle cap\n",
        "  5: Broken glass\n",
        "  6: Can\n",
        "  7: Carton\n",
        "  8: Cup\n",
        "  9: Food waste\n",
        "  10: Glass jar\n",
        "  11: Lid\n",
        "  12: Other plastic\n",
        "  13: Paper\n",
        "  14: Paper bag\n",
        "  15: Plastic bag & wrapper\n",
        "  16: Plastic container\n",
        "  17: Plastic glooves\n",
        "  18: Plastic utensils\n",
        "  19: Pop tab\n",
        "  20: Rope & strings\n",
        "  21: Scrap metal\n",
        "  22: Shoe\n",
        "  23: Squeezable tube\n",
        "  24: Straw\n",
        "  25: Styrofoam piece\n",
        "  26: Unlabeled litter\n",
        "  27: Cigarette'''\n",
        "    fp.writelines(lines)\n",
        "\n",
        "else: \n",
        "  with open('/content/yolov5/data/TACO.yaml', mode='w') as fp:\n",
        "    lines = '''path: ../TACO  # dataset root dir\n",
        "train: images/train  # train images (relative to 'path') 128 images\n",
        "val: images/val  # val images (relative to 'path') 128 images\n",
        "test: images/test # test images (optional)\n",
        "\n",
        "# Classes\n",
        "names:\n",
        "  0: Aluminium foil\n",
        "  1: Battery\n",
        "  2: Aluminium blister pack\n",
        "  3: Carded blister pack\n",
        "  4: Other plastic bottle\n",
        "  5: Clear plastic bottle\n",
        "  6: Glass bottle\n",
        "  7: Plastic bottle cap\n",
        "  8: Metal bottle cap\n",
        "  9: Broken glass\n",
        "  10: Food Can\n",
        "  11: Aerosol\n",
        "  12: Drink can\n",
        "  13: Toilet tube\n",
        "  14: Other carton\n",
        "  15: Egg carton\n",
        "  16: Drink carton\n",
        "  17: Corrugated carton\n",
        "  18: Meal carton\n",
        "  19: Pizza box\n",
        "  20: Paper cup\n",
        "  21: Disposable plastic cup\n",
        "  22: Foam cup\n",
        "  23: Glass cup\n",
        "  24: Other plastic cup\n",
        "  25: Food waste\n",
        "  26: Glass jar\n",
        "  27: Plastic lid\n",
        "  28: Metal lid\n",
        "  29: Other plastic\n",
        "  30: Magazine paper\n",
        "  31: Tissues\n",
        "  32: Wrapping paper\n",
        "  33: Normal paper\n",
        "  34: Paper bag\n",
        "  35: Plastified paper bag\n",
        "  36: Plastic film\n",
        "  37: Six pack rings\n",
        "  38: Garbage bag\n",
        "  39: Other plastic wrapper\n",
        "  40: Single-use carrier bag\n",
        "  41: Polypropylene bag\n",
        "  42: Crisp packet\n",
        "  43: Spread tub\n",
        "  44: Tupperware\n",
        "  45: Disposable food container\n",
        "  46: Foam food container\n",
        "  47: Other plastic container\n",
        "  48: Plastic glooves\n",
        "  49: Plastic utensils\n",
        "  50: Pop tab\n",
        "  51: Rope & strings\n",
        "  52: Scrap metal\n",
        "  53: Shoe\n",
        "  54: Squeezable tube\n",
        "  55: Plastic straw\n",
        "  56: Paper straw\n",
        "  57: Styrofoam piece\n",
        "  58: Unlabeled litter\n",
        "  59: Cigarette'''\n",
        "    fp.writelines(lines)"
      ]
    },
    {
      "cell_type": "markdown",
      "metadata": {
        "id": "C37qgWyEMLpj"
      },
      "source": [
        "# 1. Evaluate"
      ]
    },
    {
      "cell_type": "markdown",
      "metadata": {
        "id": "5Ay3MOsDN90j"
      },
      "source": [
        "## 1.1 detect with torch framework\n"
      ]
    },
    {
      "cell_type": "code",
      "source": [
        "%%capture\n",
        "%rm -rf /content/yolov5/runs/predict-seg/*\n",
        "!python /content/yolov5/segment/predict.py \\\n",
        "--weights /content/weights.pt \\\n",
        "--source /content/TACO/images/test \\\n",
        "--save-txt"
      ],
      "metadata": {
        "id": "iKQhAXOhcSw3"
      },
      "execution_count": 50,
      "outputs": []
    },
    {
      "cell_type": "code",
      "source": [
        "def pred_getter(img_id):\n",
        "  img = base_imgs[img_id]\n",
        "  img_height = img['height']\n",
        "  img_width = img['width']\n",
        "  \n",
        "  pred_path = '/content/yolov5/runs/predict-seg/exp/labels/'\n",
        "  X = open(pred_path+str(img_id)+'.txt','r')\n",
        "\n",
        "  lines = X.readlines()\n",
        "  lines = [i.replace('\\n','') for i in lines]\n",
        "  lines = [i.split(' ') for i in lines]\n",
        "\n",
        "  bboxes = []\n",
        "  for i in lines:\n",
        "    cache,x,y = [],[],[]\n",
        "\n",
        "    for j in i:\n",
        "      cache.append(float(j))\n",
        "\n",
        "    for id,i in enumerate(cache[1:]):\n",
        "      if id%2==0: x.append(i)\n",
        "      else: y.append(i)\n",
        "\n",
        "    # cen_x,cen_y,width,height  \n",
        "\n",
        "    bbox = [int(cache[0]), (max(x)+min(x))/2,(max(y)+min(y))/2,(max(x)-min(x)),(max(y)-min(y))]\n",
        "    bboxes.append(bbox)\n",
        "\n",
        "  cache = pd.DataFrame(bboxes,columns = ['class','xcenter','ycenter','width','height'])\n",
        "\n",
        "  cache[\"xcenter\"] = img_width * cache[\"xcenter\"]\n",
        "  cache[\"ycenter\"] = img_height * cache[\"ycenter\"]\n",
        "  cache[\"width\"] = img_width * cache[\"width\"]\n",
        "  cache[\"height\"] = img_height * cache[\"height\"]\n",
        "\n",
        "  cache = cache.assign(confidence = ['n/a']*cache.shape[0])\n",
        "  cache = cache.assign(class_name = [number_superid[i] for i in cache['class'].tolist()])\n",
        "  cache = cache.reindex(columns=['xcenter','ycenter','width','height','confidence','class','class_name'])\n",
        "  cache = cache.assign(image_id = [img_id]*cache.shape[0])\n",
        "  return cache\n",
        "\n",
        "def truth_getter(img_id):\n",
        "\n",
        "  img = base_imgs[img_id]\n",
        "  img_height = img['height']\n",
        "  img_width = img['width']\n",
        "\n",
        "  cache = pd.read_csv('./TACO/labels/'+str(img_id)+'.txt',header=None,\n",
        "                      names = ['class','xcenter','ycenter','width','height'],delimiter=' ')\n",
        "  cache[\"xcenter\"] = img_width * cache[\"xcenter\"]\n",
        "  cache[\"ycenter\"] = img_height * cache[\"ycenter\"]\n",
        "  cache[\"width\"] = img_width * cache[\"width\"]\n",
        "  cache[\"height\"] = img_height * cache[\"height\"]\n",
        "\n",
        "  cache = cache.assign(confidence = [1]*cache.shape[0])\n",
        "  cache = cache.assign(class_name = [number_superid[i] for i in cache['class'].tolist()])\n",
        "  cache = cache.reindex(columns=['xcenter','ycenter','width','height','confidence','class','class_name'])\n",
        "  cache = cache.assign(image_id = [img_id]*cache.shape[0])\n",
        "  # cache = cache.assign(img_width = [width]*cache.shape[0])\n",
        "  # cache = cache.assign(img_height = [height]*cache.shape[0])\n",
        "\n",
        "  return cache\n"
      ],
      "metadata": {
        "id": "-oDhkuoLqMoD"
      },
      "execution_count": 52,
      "outputs": []
    },
    {
      "cell_type": "code",
      "source": [
        "pred_pd = []\n",
        "for i in test_ids:\n",
        "  try: pred_pd.append(pred_getter(i))\n",
        "  except: pred_pd.append(pd.DataFrame(columns=['xcenter','ycenter','width','height','confidence','class','class_name'] ))\n",
        "\n",
        "truth_pd=[]\n",
        "for i in test_ids:\n",
        "  truth_pd.append(truth_getter(i))"
      ],
      "metadata": {
        "id": "6WdHH_hapdS3"
      },
      "execution_count": 55,
      "outputs": []
    },
    {
      "cell_type": "markdown",
      "metadata": {
        "id": "QNrQCtxcBiw0"
      },
      "source": [
        "## 1.2 example prediction and truth"
      ]
    },
    {
      "cell_type": "code",
      "execution_count": 56,
      "metadata": {
        "colab": {
          "base_uri": "https://localhost:8080/"
        },
        "id": "WuvboCQRLUvU",
        "outputId": "b5d97cb6-8d1c-46c9-aef0-2628fb65d06b"
      },
      "outputs": [
        {
          "output_type": "execute_result",
          "data": {
            "text/plain": [
              "[      xcenter     ycenter      width       height confidence  class  \\\n",
              " 0  690.048446  997.282109  355.43125  1123.931823        n/a      6   \n",
              " \n",
              "   class_name  image_id  \n",
              " 0        Can         6  ,\n",
              "        xcenter      ycenter       width       height confidence  class  \\\n",
              " 0  1415.154144  1071.096875  409.865568   925.403108        n/a      6   \n",
              " 1  1042.111155  1055.086715  342.621486   880.573429        n/a      6   \n",
              " 2   433.715928   707.660414  406.665030  1389.704172        n/a      3   \n",
              " 3  1788.197133   510.732035  195.327072    99.264071        n/a      4   \n",
              " 4   747.519253  1000.651554  317.006937   951.018750        n/a      3   \n",
              " 5  1759.377948  1029.470304  470.704476  1008.656250        n/a      3   \n",
              " \n",
              "    class_name  image_id  \n",
              " 0         Can        12  \n",
              " 1         Can        12  \n",
              " 2      Bottle        12  \n",
              " 3  Bottle cap        12  \n",
              " 4      Bottle        12  \n",
              " 5      Bottle        12  ]"
            ]
          },
          "metadata": {},
          "execution_count": 56
        }
      ],
      "source": [
        "pred_pd[:2] \n",
        "# predictions for first two images\n",
        "# there will be a list of two dataframes"
      ]
    },
    {
      "cell_type": "code",
      "execution_count": 57,
      "metadata": {
        "colab": {
          "base_uri": "https://localhost:8080/",
          "height": 81
        },
        "id": "qwJA0H4QrHYC",
        "outputId": "2c2bab0a-31c5-4aa1-eadc-35359ec77dc2"
      },
      "outputs": [
        {
          "output_type": "execute_result",
          "data": {
            "text/plain": [
              "      xcenter    ycenter       width       height  confidence  class  \\\n",
              "0  775.499498  934.99968  713.000467  1854.000768           1      3   \n",
              "\n",
              "  class_name  image_id  \n",
              "0     Bottle        14  "
            ],
            "text/html": [
              "\n",
              "  <div id=\"df-0f3b6dec-05a0-4dd7-80a5-a4132ed43ba4\">\n",
              "    <div class=\"colab-df-container\">\n",
              "      <div>\n",
              "<style scoped>\n",
              "    .dataframe tbody tr th:only-of-type {\n",
              "        vertical-align: middle;\n",
              "    }\n",
              "\n",
              "    .dataframe tbody tr th {\n",
              "        vertical-align: top;\n",
              "    }\n",
              "\n",
              "    .dataframe thead th {\n",
              "        text-align: right;\n",
              "    }\n",
              "</style>\n",
              "<table border=\"1\" class=\"dataframe\">\n",
              "  <thead>\n",
              "    <tr style=\"text-align: right;\">\n",
              "      <th></th>\n",
              "      <th>xcenter</th>\n",
              "      <th>ycenter</th>\n",
              "      <th>width</th>\n",
              "      <th>height</th>\n",
              "      <th>confidence</th>\n",
              "      <th>class</th>\n",
              "      <th>class_name</th>\n",
              "      <th>image_id</th>\n",
              "    </tr>\n",
              "  </thead>\n",
              "  <tbody>\n",
              "    <tr>\n",
              "      <th>0</th>\n",
              "      <td>775.499498</td>\n",
              "      <td>934.99968</td>\n",
              "      <td>713.000467</td>\n",
              "      <td>1854.000768</td>\n",
              "      <td>1</td>\n",
              "      <td>3</td>\n",
              "      <td>Bottle</td>\n",
              "      <td>14</td>\n",
              "    </tr>\n",
              "  </tbody>\n",
              "</table>\n",
              "</div>\n",
              "      <button class=\"colab-df-convert\" onclick=\"convertToInteractive('df-0f3b6dec-05a0-4dd7-80a5-a4132ed43ba4')\"\n",
              "              title=\"Convert this dataframe to an interactive table.\"\n",
              "              style=\"display:none;\">\n",
              "        \n",
              "  <svg xmlns=\"http://www.w3.org/2000/svg\" height=\"24px\"viewBox=\"0 0 24 24\"\n",
              "       width=\"24px\">\n",
              "    <path d=\"M0 0h24v24H0V0z\" fill=\"none\"/>\n",
              "    <path d=\"M18.56 5.44l.94 2.06.94-2.06 2.06-.94-2.06-.94-.94-2.06-.94 2.06-2.06.94zm-11 1L8.5 8.5l.94-2.06 2.06-.94-2.06-.94L8.5 2.5l-.94 2.06-2.06.94zm10 10l.94 2.06.94-2.06 2.06-.94-2.06-.94-.94-2.06-.94 2.06-2.06.94z\"/><path d=\"M17.41 7.96l-1.37-1.37c-.4-.4-.92-.59-1.43-.59-.52 0-1.04.2-1.43.59L10.3 9.45l-7.72 7.72c-.78.78-.78 2.05 0 2.83L4 21.41c.39.39.9.59 1.41.59.51 0 1.02-.2 1.41-.59l7.78-7.78 2.81-2.81c.8-.78.8-2.07 0-2.86zM5.41 20L4 18.59l7.72-7.72 1.47 1.35L5.41 20z\"/>\n",
              "  </svg>\n",
              "      </button>\n",
              "      \n",
              "  <style>\n",
              "    .colab-df-container {\n",
              "      display:flex;\n",
              "      flex-wrap:wrap;\n",
              "      gap: 12px;\n",
              "    }\n",
              "\n",
              "    .colab-df-convert {\n",
              "      background-color: #E8F0FE;\n",
              "      border: none;\n",
              "      border-radius: 50%;\n",
              "      cursor: pointer;\n",
              "      display: none;\n",
              "      fill: #1967D2;\n",
              "      height: 32px;\n",
              "      padding: 0 0 0 0;\n",
              "      width: 32px;\n",
              "    }\n",
              "\n",
              "    .colab-df-convert:hover {\n",
              "      background-color: #E2EBFA;\n",
              "      box-shadow: 0px 1px 2px rgba(60, 64, 67, 0.3), 0px 1px 3px 1px rgba(60, 64, 67, 0.15);\n",
              "      fill: #174EA6;\n",
              "    }\n",
              "\n",
              "    [theme=dark] .colab-df-convert {\n",
              "      background-color: #3B4455;\n",
              "      fill: #D2E3FC;\n",
              "    }\n",
              "\n",
              "    [theme=dark] .colab-df-convert:hover {\n",
              "      background-color: #434B5C;\n",
              "      box-shadow: 0px 1px 3px 1px rgba(0, 0, 0, 0.15);\n",
              "      filter: drop-shadow(0px 1px 2px rgba(0, 0, 0, 0.3));\n",
              "      fill: #FFFFFF;\n",
              "    }\n",
              "  </style>\n",
              "\n",
              "      <script>\n",
              "        const buttonEl =\n",
              "          document.querySelector('#df-0f3b6dec-05a0-4dd7-80a5-a4132ed43ba4 button.colab-df-convert');\n",
              "        buttonEl.style.display =\n",
              "          google.colab.kernel.accessAllowed ? 'block' : 'none';\n",
              "\n",
              "        async function convertToInteractive(key) {\n",
              "          const element = document.querySelector('#df-0f3b6dec-05a0-4dd7-80a5-a4132ed43ba4');\n",
              "          const dataTable =\n",
              "            await google.colab.kernel.invokeFunction('convertToInteractive',\n",
              "                                                     [key], {});\n",
              "          if (!dataTable) return;\n",
              "\n",
              "          const docLinkHtml = 'Like what you see? Visit the ' +\n",
              "            '<a target=\"_blank\" href=https://colab.research.google.com/notebooks/data_table.ipynb>data table notebook</a>'\n",
              "            + ' to learn more about interactive tables.';\n",
              "          element.innerHTML = '';\n",
              "          dataTable['output_type'] = 'display_data';\n",
              "          await google.colab.output.renderOutput(dataTable, element);\n",
              "          const docLink = document.createElement('div');\n",
              "          docLink.innerHTML = docLinkHtml;\n",
              "          element.appendChild(docLink);\n",
              "        }\n",
              "      </script>\n",
              "    </div>\n",
              "  </div>\n",
              "  "
            ]
          },
          "metadata": {},
          "execution_count": 57
        }
      ],
      "source": [
        "truth_pd[2] "
      ]
    },
    {
      "cell_type": "code",
      "execution_count": 58,
      "metadata": {
        "colab": {
          "base_uri": "https://localhost:8080/",
          "height": 112
        },
        "id": "WFbRwGhdR0o5",
        "outputId": "c42f049b-8423-4742-91b3-ac1ba3d850b1"
      },
      "outputs": [
        {
          "output_type": "execute_result",
          "data": {
            "text/plain": [
              "       xcenter      ycenter       width       height confidence  class  \\\n",
              "0  1115.925786  2041.161550   80.051571     9.607761        n/a      4   \n",
              "1   773.303125   931.723329  701.256250  1863.446658        n/a     14   \n",
              "\n",
              "   class_name  image_id  \n",
              "0  Bottle cap        14  \n",
              "1   Paper bag        14  "
            ],
            "text/html": [
              "\n",
              "  <div id=\"df-5a4488ac-92d5-4403-a76b-40d15323ebcb\">\n",
              "    <div class=\"colab-df-container\">\n",
              "      <div>\n",
              "<style scoped>\n",
              "    .dataframe tbody tr th:only-of-type {\n",
              "        vertical-align: middle;\n",
              "    }\n",
              "\n",
              "    .dataframe tbody tr th {\n",
              "        vertical-align: top;\n",
              "    }\n",
              "\n",
              "    .dataframe thead th {\n",
              "        text-align: right;\n",
              "    }\n",
              "</style>\n",
              "<table border=\"1\" class=\"dataframe\">\n",
              "  <thead>\n",
              "    <tr style=\"text-align: right;\">\n",
              "      <th></th>\n",
              "      <th>xcenter</th>\n",
              "      <th>ycenter</th>\n",
              "      <th>width</th>\n",
              "      <th>height</th>\n",
              "      <th>confidence</th>\n",
              "      <th>class</th>\n",
              "      <th>class_name</th>\n",
              "      <th>image_id</th>\n",
              "    </tr>\n",
              "  </thead>\n",
              "  <tbody>\n",
              "    <tr>\n",
              "      <th>0</th>\n",
              "      <td>1115.925786</td>\n",
              "      <td>2041.161550</td>\n",
              "      <td>80.051571</td>\n",
              "      <td>9.607761</td>\n",
              "      <td>n/a</td>\n",
              "      <td>4</td>\n",
              "      <td>Bottle cap</td>\n",
              "      <td>14</td>\n",
              "    </tr>\n",
              "    <tr>\n",
              "      <th>1</th>\n",
              "      <td>773.303125</td>\n",
              "      <td>931.723329</td>\n",
              "      <td>701.256250</td>\n",
              "      <td>1863.446658</td>\n",
              "      <td>n/a</td>\n",
              "      <td>14</td>\n",
              "      <td>Paper bag</td>\n",
              "      <td>14</td>\n",
              "    </tr>\n",
              "  </tbody>\n",
              "</table>\n",
              "</div>\n",
              "      <button class=\"colab-df-convert\" onclick=\"convertToInteractive('df-5a4488ac-92d5-4403-a76b-40d15323ebcb')\"\n",
              "              title=\"Convert this dataframe to an interactive table.\"\n",
              "              style=\"display:none;\">\n",
              "        \n",
              "  <svg xmlns=\"http://www.w3.org/2000/svg\" height=\"24px\"viewBox=\"0 0 24 24\"\n",
              "       width=\"24px\">\n",
              "    <path d=\"M0 0h24v24H0V0z\" fill=\"none\"/>\n",
              "    <path d=\"M18.56 5.44l.94 2.06.94-2.06 2.06-.94-2.06-.94-.94-2.06-.94 2.06-2.06.94zm-11 1L8.5 8.5l.94-2.06 2.06-.94-2.06-.94L8.5 2.5l-.94 2.06-2.06.94zm10 10l.94 2.06.94-2.06 2.06-.94-2.06-.94-.94-2.06-.94 2.06-2.06.94z\"/><path d=\"M17.41 7.96l-1.37-1.37c-.4-.4-.92-.59-1.43-.59-.52 0-1.04.2-1.43.59L10.3 9.45l-7.72 7.72c-.78.78-.78 2.05 0 2.83L4 21.41c.39.39.9.59 1.41.59.51 0 1.02-.2 1.41-.59l7.78-7.78 2.81-2.81c.8-.78.8-2.07 0-2.86zM5.41 20L4 18.59l7.72-7.72 1.47 1.35L5.41 20z\"/>\n",
              "  </svg>\n",
              "      </button>\n",
              "      \n",
              "  <style>\n",
              "    .colab-df-container {\n",
              "      display:flex;\n",
              "      flex-wrap:wrap;\n",
              "      gap: 12px;\n",
              "    }\n",
              "\n",
              "    .colab-df-convert {\n",
              "      background-color: #E8F0FE;\n",
              "      border: none;\n",
              "      border-radius: 50%;\n",
              "      cursor: pointer;\n",
              "      display: none;\n",
              "      fill: #1967D2;\n",
              "      height: 32px;\n",
              "      padding: 0 0 0 0;\n",
              "      width: 32px;\n",
              "    }\n",
              "\n",
              "    .colab-df-convert:hover {\n",
              "      background-color: #E2EBFA;\n",
              "      box-shadow: 0px 1px 2px rgba(60, 64, 67, 0.3), 0px 1px 3px 1px rgba(60, 64, 67, 0.15);\n",
              "      fill: #174EA6;\n",
              "    }\n",
              "\n",
              "    [theme=dark] .colab-df-convert {\n",
              "      background-color: #3B4455;\n",
              "      fill: #D2E3FC;\n",
              "    }\n",
              "\n",
              "    [theme=dark] .colab-df-convert:hover {\n",
              "      background-color: #434B5C;\n",
              "      box-shadow: 0px 1px 3px 1px rgba(0, 0, 0, 0.15);\n",
              "      filter: drop-shadow(0px 1px 2px rgba(0, 0, 0, 0.3));\n",
              "      fill: #FFFFFF;\n",
              "    }\n",
              "  </style>\n",
              "\n",
              "      <script>\n",
              "        const buttonEl =\n",
              "          document.querySelector('#df-5a4488ac-92d5-4403-a76b-40d15323ebcb button.colab-df-convert');\n",
              "        buttonEl.style.display =\n",
              "          google.colab.kernel.accessAllowed ? 'block' : 'none';\n",
              "\n",
              "        async function convertToInteractive(key) {\n",
              "          const element = document.querySelector('#df-5a4488ac-92d5-4403-a76b-40d15323ebcb');\n",
              "          const dataTable =\n",
              "            await google.colab.kernel.invokeFunction('convertToInteractive',\n",
              "                                                     [key], {});\n",
              "          if (!dataTable) return;\n",
              "\n",
              "          const docLinkHtml = 'Like what you see? Visit the ' +\n",
              "            '<a target=\"_blank\" href=https://colab.research.google.com/notebooks/data_table.ipynb>data table notebook</a>'\n",
              "            + ' to learn more about interactive tables.';\n",
              "          element.innerHTML = '';\n",
              "          dataTable['output_type'] = 'display_data';\n",
              "          await google.colab.output.renderOutput(dataTable, element);\n",
              "          const docLink = document.createElement('div');\n",
              "          docLink.innerHTML = docLinkHtml;\n",
              "          element.appendChild(docLink);\n",
              "        }\n",
              "      </script>\n",
              "    </div>\n",
              "  </div>\n",
              "  "
            ]
          },
          "metadata": {},
          "execution_count": 58
        }
      ],
      "source": [
        "pred_pd[2]"
      ]
    },
    {
      "cell_type": "markdown",
      "metadata": {
        "id": "TyiyfCEAODQI"
      },
      "source": [
        "# 2. Accuracy evaluation\n",
        "\n",
        "Usually, `Object Detection` tasks are measured by mAP, which is also the default metrics YoloV5 uses. You can also check Yolo's Precision and Recall metrics. \n",
        "\n",
        "However, if an `accuracy` metric is specifically needed, the following codes will do it.\n",
        "\n",
        "For each object with a truth bounding box in each image, if there is a prediction bounding box that has an IOU > threshold with that truth bounding box, it is counted as `detected`.\n",
        "\n",
        "For overall model `accuracy`, we count total number of `detected` of all images over total number of `predictions` of all images."
      ]
    },
    {
      "cell_type": "markdown",
      "metadata": {
        "id": "Ff6hBppj1SjL"
      },
      "source": [
        "**Definition of `Accuracy`:**\n",
        "\n",
        "$$\\text{Accuracy} = \\frac{\\text{Number of correct predictions}}{\\text{Total number of predictions}}$$\n",
        "\n",
        "A comparison of `Accuracy, Precision, Recall`:\n",
        "$$\n",
        "\\text{Accuracy} = \\frac{TP+TN}{TP+TN+FP+FN}\n",
        "$$\n",
        "\n",
        "$$\\text{Precision} = \\frac{TP}{TP+FP}\n",
        "$$\n",
        "\n",
        "$$\\text{Recall} = \\frac{TP}{TP+FN}\n",
        "$$\n",
        "CC: https://developers.google.com/machine-learning/crash-course/classification/accuracy"
      ]
    },
    {
      "cell_type": "code",
      "execution_count": 59,
      "metadata": {
        "id": "LkQgO9T5OHzs"
      },
      "outputs": [],
      "source": [
        "def bbox_iou(box1, box2, eps=1e-7):\n",
        "  \"\"\"\n",
        "  CITATION: adapted from YOLOV5 utils, author, cr: ultralytics\n",
        "  Returns Intersection over Union (IoU) of box1(1,4) to box2(n,4)\n",
        "  Get the coordinates of bounding boxes, transform from xywh to xyxy\n",
        "  \"\"\"\n",
        "  (x1, y1, w1, h1), (x2, y2, w2, h2) = box1.chunk(4, 1), box2.chunk(4, 1)\n",
        "  w1_, h1_, w2_, h2_ = w1 / 2, h1 / 2, w2 / 2, h2 / 2\n",
        "  b1_x1, b1_x2, b1_y1, b1_y2 = x1 - w1_, x1 + w1_, y1 - h1_, y1 + h1_\n",
        "  b2_x1, b2_x2, b2_y1, b2_y2 = x2 - w2_, x2 + w2_, y2 - h2_, y2 + h2_\n",
        "\n",
        "  inter = (torch.min(b1_x2, b2_x2) - torch.max(b1_x1, b2_x1)).clamp(0) * \\\n",
        "          (torch.min(b1_y2, b2_y2) - torch.max(b1_y1, b2_y1)).clamp(0)\n",
        "  union = w1 * h1 + w2 * h2 - inter + eps\n",
        "  return inter / union  # return IoU\n",
        "  \n",
        "def each_pic(pred_df,truth_df,iou_th,must_class):\n",
        "  \"\"\"\n",
        "  returns number of objects (truth) and number of detection\n",
        "  e.g. if there are 5 pieces of trash in an image and we predicted 2, it will return 5,2\n",
        "  \"\"\"\n",
        "  pred_df_ = pred_df.assign(matched=[0]*pred_df.shape[0])\n",
        "  nr_preds = pred_df.shape[0]\n",
        "  nr_dets = 0\n",
        "  for i in truth_df.iterrows():\n",
        "    tbox_tensor = torch.tensor([i[1].tolist()[:4]])\n",
        "    tlabel = i[1].tolist()[5]\n",
        "    \n",
        "    row_counter=0\n",
        "    for j in pred_df_.iterrows():\n",
        "      pbox_tensor = torch.tensor([j[1].tolist()[:4]])\n",
        "      plabel = j[1].tolist()[5]\n",
        "      matched = j[1].tolist()[-1]\n",
        "      if must_class==True: # if the detection has to assign a correct class name. \n",
        "        if bbox_iou(tbox_tensor,pbox_tensor)>iou_th and matched==0 and tlabel==plabel:\n",
        "          nr_dets+=1\n",
        "          pred_df_.iat[row_counter,-1]=1 # mark matched bbox, so one prediction bbox wont be counted as \"detected\" for two different objects\n",
        "          continue\n",
        "      else: \n",
        "        if bbox_iou(tbox_tensor,pbox_tensor)>iou_th and matched==0:\n",
        "          nr_dets+=1\n",
        "          pred_df_.iat[row_counter,-1]=1\n",
        "          continue\n",
        "      row_counter+=1\n",
        "  return nr_preds,nr_dets\n",
        "\n",
        "def get_accuracy(pred,truth,iou_th=0.5,must_class=False):\n",
        "  \"\"\"\n",
        "  pred: prediction list of dataframe\n",
        "  truth: truth list of dataframe\n",
        "  iou_th IOU threshold you define suitable\n",
        "  must_class: controls whether the category need to be predicted correctly\n",
        "              when set to false, only consider whether predicted bbox bounded objects correctly, \n",
        "              without considering if the correct class is identified\n",
        "  \"\"\"\n",
        "  preds,dets=0,0\n",
        "  for i in tqdm(range(len(truth))):\n",
        "    p,d=each_pic(pred_pd[i],truth_pd[i],iou_th,must_class)\n",
        "    preds+=p\n",
        "    dets+=d\n",
        "  return np.round(dets/preds,6)"
      ]
    },
    {
      "cell_type": "markdown",
      "metadata": {
        "id": "t1nk9VlW3KZT"
      },
      "source": [
        "## 2.1 Get Accuracy"
      ]
    },
    {
      "cell_type": "code",
      "execution_count": 60,
      "metadata": {
        "colab": {
          "base_uri": "https://localhost:8080/"
        },
        "id": "p8E9EsAMOH1d",
        "outputId": "d29706df-de05-47e3-f1a0-c75d069a952b"
      },
      "outputs": [
        {
          "output_type": "stream",
          "name": "stderr",
          "text": [
            "100%|██████████| 194/194 [00:00<00:00, 270.59it/s]"
          ]
        },
        {
          "output_type": "stream",
          "name": "stdout",
          "text": [
            "\n",
            "Our trained model has an accuracy of: 36.887%\n"
          ]
        },
        {
          "output_type": "stream",
          "name": "stderr",
          "text": [
            "\n"
          ]
        }
      ],
      "source": [
        "accuracy = get_accuracy(pred_pd,truth_pd,iou_th=0.5,must_class=True)\n",
        "print('\\nOur trained model has an accuracy of: '+str(accuracy*100)+'%')"
      ]
    },
    {
      "cell_type": "markdown",
      "metadata": {
        "id": "fZWitSXb3EHh"
      },
      "source": [
        "**Box-Accuracy**\n",
        "\n",
        "Some detection tasks care only about \"having a bounding box over the target object,\" they do not care about if the model then label the object with a correct class. If you want such accuracy, it can be obtained by setting `must_class` to `False`. \n",
        "\n",
        "Below is an example:"
      ]
    },
    {
      "cell_type": "code",
      "execution_count": 61,
      "metadata": {
        "colab": {
          "base_uri": "https://localhost:8080/"
        },
        "id": "28BGyq9g3Bwc",
        "outputId": "84f1c661-374a-476d-9cc5-eb2676e8a6f0"
      },
      "outputs": [
        {
          "output_type": "stream",
          "name": "stderr",
          "text": [
            "100%|██████████| 194/194 [00:00<00:00, 285.81it/s]"
          ]
        },
        {
          "output_type": "stream",
          "name": "stdout",
          "text": [
            "\n",
            "Our trained model has an accuracy of: 68.2303%\n"
          ]
        },
        {
          "output_type": "stream",
          "name": "stderr",
          "text": [
            "\n"
          ]
        }
      ],
      "source": [
        "accuracy = get_accuracy(pred_pd,truth_pd,iou_th=0.5,must_class=False)\n",
        "print('\\nOur trained model has an accuracy of: '+str(accuracy*100)+'%')"
      ]
    },
    {
      "cell_type": "code",
      "execution_count": 61,
      "metadata": {
        "id": "ME1EbHlgOc4F"
      },
      "outputs": [],
      "source": []
    },
    {
      "cell_type": "code",
      "execution_count": 62,
      "metadata": {
        "id": "5iPP1vh-Oc6N"
      },
      "outputs": [],
      "source": [
        "# from google.colab import runtime\n",
        "# runtime.unassign()"
      ]
    }
  ],
  "metadata": {
    "colab": {
      "provenance": []
    },
    "gpuClass": "standard",
    "kernelspec": {
      "display_name": "Python 3 (ipykernel)",
      "language": "python",
      "name": "python3"
    },
    "language_info": {
      "codemirror_mode": {
        "name": "ipython",
        "version": 3
      },
      "file_extension": ".py",
      "mimetype": "text/x-python",
      "name": "python",
      "nbconvert_exporter": "python",
      "pygments_lexer": "ipython3",
      "version": "3.9.12"
    },
    "accelerator": "GPU"
  },
  "nbformat": 4,
  "nbformat_minor": 0
}